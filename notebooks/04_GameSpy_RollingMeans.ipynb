{
 "cells": [
  {
   "cell_type": "code",
   "execution_count": 2,
   "id": "aed93671",
   "metadata": {},
   "outputs": [],
   "source": [
    "from bs4 import BeautifulSoup\n",
    "import requests\n",
    "import numpy as np\n",
    "import pandas as pd\n",
    "import matplotlib.pyplot as plt\n",
    "import seaborn as sns\n",
    "import re\n",
    "\n",
    "import warnings\n",
    "warnings.filterwarnings('ignore')"
   ]
  },
  {
   "cell_type": "code",
   "execution_count": 3,
   "id": "85fba2ec",
   "metadata": {},
   "outputs": [],
   "source": [
    "df=pd.read_csv('../data/02_GameSpy_Scraping_MergeAllDataSet.csv', index_col=0)"
   ]
  },
  {
   "cell_type": "code",
   "execution_count": 25,
   "id": "eb3db70d",
   "metadata": {},
   "outputs": [],
   "source": [
    "#Reformattage et enrichissement de la date de sortie \n",
    "df['Year2'] = df['DateSortie'].apply(lambda x: x[:4])\n",
    "df['Year2'] = df['Year2'].astype(float)\n",
    "df['Year'] = df['Year'].fillna(df['Year2'])\n",
    "df\n",
    "df = df.drop(['Year2', 'DateSortie'], axis=1)\n",
    "df['Year'] = df['Year'].replace(0, np.nan)\n",
    "df = df.dropna(axis = 0, how = 'all', subset = ['Year'])\n",
    "df['Year'] = df['Year'].astype(int).astype(str)\n",
    "df['Mois'] = df['Mois'].astype(int).astype(str)\n",
    "for i,row in df.iterrows():\n",
    "    if len(df.loc[i, 'Mois']) == 1:\n",
    "        df.loc[i, 'Date_Sortie'] = df.loc[i,'Year']+'-0'+df.loc[i,'Mois']+'-01'\n",
    "    else:\n",
    "        df.loc[i, 'Date_Sortie'] = df.loc[i,'Year']+'-'+df.loc[i,'Mois']+'-01'\n",
    "df['Date_Sortie'] = pd.to_datetime(df['Date_Sortie'])"
   ]
  },
  {
   "cell_type": "markdown",
   "id": "c2679929",
   "metadata": {},
   "source": [
    "# ROLLING MEANS PUBLISHERS\n",
    "Création des moyennes mobiles des ventes, des scores, des rates et des reviews"
   ]
  },
  {
   "cell_type": "code",
   "execution_count": 26,
   "id": "e910d8d3",
   "metadata": {},
   "outputs": [],
   "source": [
    "df_publisher = df.sort_values(by = ['Publisher','Date_Sortie'], ascending=True)\n",
    "publishers = df_publisher['Publisher'].unique()\n",
    "publishers = np.delete(publishers, -1)\n",
    "df_publisher['RM_Publisher'] = np.nan\n",
    "df_publisher[\"RM_Publisher_score\"] = np.nan\n",
    "df_publisher[\"RM_Publisher_rate\"] = np.nan\n",
    "df_publisher[\"RM_Publisher_reviews\"] = np.nan\n",
    "df_rm1on3 = pd.DataFrame(columns=df_publisher.columns)\n",
    "for publisher in publishers:\n",
    "    df_temp = df_publisher[df_publisher['Publisher']==publisher]\n",
    "    nb_games = df_temp.shape[0]\n",
    "    if nb_games == 1:\n",
    "        df_temp.iloc[0,-4] = 0\n",
    "        df_temp.iloc[0,-3] = 0\n",
    "        df_temp.iloc[0,-2] = 0\n",
    "        df_temp.iloc[0,-1] = 0\n",
    "    elif nb_games == 2:\n",
    "        df_temp.iloc[0,-4] = 0\n",
    "        df_temp.iloc[0,-3] = 0\n",
    "        df_temp.iloc[0,-2] = 0\n",
    "        df_temp.iloc[0,-1] = 0\n",
    "        df_temp.iloc[1,-4] = df_temp.iloc[0,13]\n",
    "        df_temp.iloc[1,-3] = df_temp.iloc[0,6]\n",
    "        df_temp.iloc[1,-2] = df_temp.iloc[0,7]\n",
    "        df_temp.iloc[1,-1] = df_temp.iloc[0,8]\n",
    "    elif nb_games == 3:\n",
    "        df_temp.iloc[0,-4] = 0\n",
    "        df_temp.iloc[0,-3] = 0\n",
    "        df_temp.iloc[0,-2] = 0\n",
    "        df_temp.iloc[0,-1] = 0\n",
    "        df_temp.iloc[1,-4] = df_temp.iloc[0,13]\n",
    "        df_temp.iloc[1,-3] = df_temp.iloc[0,6]\n",
    "        df_temp.iloc[1,-2] = df_temp.iloc[0,7]\n",
    "        df_temp.iloc[1,-1] = df_temp.iloc[0,8]\n",
    "        df_temp.iloc[2,-4] = (df_temp.iloc[0:1,13]).mean()\n",
    "        df_temp.iloc[2,-3] = (df_temp.iloc[0:1,6]).mean()\n",
    "        df_temp.iloc[2,-2] = (df_temp.iloc[0:1,7]).mean()\n",
    "        df_temp.iloc[2,-1] = (df_temp.iloc[0:1,8]).mean()\n",
    "    else:\n",
    "        df_temp.iloc[0,-4] = 0\n",
    "        df_temp.iloc[0,-3] = 0\n",
    "        df_temp.iloc[0,-2] = 0\n",
    "        df_temp.iloc[0,-1] = 0\n",
    "        df_temp.iloc[1,-4] = df_temp.iloc[0,13]\n",
    "        df_temp.iloc[1,-3] = df_temp.iloc[0,6]\n",
    "        df_temp.iloc[1,-2] = df_temp.iloc[0,7]\n",
    "        df_temp.iloc[1,-1] = df_temp.iloc[0,8]        \n",
    "        for i in range(2,nb_games):\n",
    "            df_temp.iloc[i,-4] = (df_temp.iloc[(i-2):(i-1),13]).mean()\n",
    "            df_temp.iloc[i,-3] = (df_temp.iloc[(i-2):(i-1),6]).mean()\n",
    "            df_temp.iloc[i,-2] = (df_temp.iloc[(i-2):(i-1),7]).mean()\n",
    "            df_temp.iloc[i,-1] = (df_temp.iloc[(i-2):(i-1),8]).mean()\n",
    "    df_rm1on3 = pd.concat([df_rm1on3,df_temp], axis = 0)"
   ]
  },
  {
   "cell_type": "code",
   "execution_count": 27,
   "id": "e429a9f3",
   "metadata": {},
   "outputs": [],
   "source": [
    "#Merge avec le dataset importé\n",
    "df_rm = df.merge(right=df_rm1on3, on=['Name', 'Platform', 'Year', 'Genre', 'Publisher', 'Studio', 'Score',\n",
    "       'Rate', 'Review', 'NA_Sales', 'EU_Sales', 'JP_Sales', 'Other_Sales',\n",
    "       'Global_Sales', 'GK_licence', 'GK_distributeur', 'Mois', 'Date_Sortie',], how='left')"
   ]
  },
  {
   "cell_type": "markdown",
   "id": "c537575b",
   "metadata": {},
   "source": [
    "# ROLLING MEANS STUDIOS\n",
    "Création des moyennes mobiles des ventes, des scores, des rates et des reviews"
   ]
  },
  {
   "cell_type": "code",
   "execution_count": 28,
   "id": "74148014",
   "metadata": {},
   "outputs": [],
   "source": [
    "df_studio = df_rm.sort_values(by = ['Studio','Date_Sortie'], ascending=True)\n",
    "studios = df_studio['Studio'].unique()\n",
    "studios = np.delete(studios, -1)\n",
    "df_studio['RM_Studio'] = np.nan\n",
    "df_studio[\"RM_Studio_score\"] = np.nan\n",
    "df_studio[\"RM_Studio_rate\"] = np.nan\n",
    "df_studio[\"RM_Studio_reviews\"] = np.nan\n",
    "df_rm2on3 = pd.DataFrame(columns=df_studio.columns)\n",
    "for studio in studios:\n",
    "    df_temp = df_studio[df_studio['Studio']==studio]\n",
    "    nb_games = df_temp.shape[0]\n",
    "    if nb_games == 1:\n",
    "        df_temp.iloc[0,-4] = df_temp.iloc[0,-8]\n",
    "        df_temp.iloc[0,-3] = df_temp.iloc[0,-7]\n",
    "        df_temp.iloc[0,-2] = df_temp.iloc[0,-6]\n",
    "        df_temp.iloc[0,-1] = df_temp.iloc[0,-5]\n",
    "    elif nb_games == 2:\n",
    "        df_temp.iloc[0,-4] = df_temp.iloc[0,-8]\n",
    "        df_temp.iloc[0,-3] = df_temp.iloc[0,-7]\n",
    "        df_temp.iloc[0,-2] = df_temp.iloc[0,-6]\n",
    "        df_temp.iloc[0,-1] = df_temp.iloc[0,-5]\n",
    "        df_temp.iloc[1,-4] = df_temp.iloc[0,13]\n",
    "        df_temp.iloc[1,-3] = df_temp.iloc[0,6]\n",
    "        df_temp.iloc[1,-2] = df_temp.iloc[0,7]\n",
    "        df_temp.iloc[1,-1] = df_temp.iloc[0,8]\n",
    "    elif nb_games == 3:\n",
    "        df_temp.iloc[0,-4] = df_temp.iloc[0,-8]\n",
    "        df_temp.iloc[0,-3] = df_temp.iloc[0,-7]\n",
    "        df_temp.iloc[0,-2] = df_temp.iloc[0,-6]\n",
    "        df_temp.iloc[0,-1] = df_temp.iloc[0,-5]\n",
    "        df_temp.iloc[1,-4] = df_temp.iloc[0,13]\n",
    "        df_temp.iloc[1,-3] = df_temp.iloc[0,6]\n",
    "        df_temp.iloc[1,-2] = df_temp.iloc[0,7]\n",
    "        df_temp.iloc[1,-1] = df_temp.iloc[0,8]\n",
    "        df_temp.iloc[2,-4] = (df_temp.iloc[0:1,13]).mean()\n",
    "        df_temp.iloc[2,-3] = (df_temp.iloc[0:1,6]).mean()\n",
    "        df_temp.iloc[2,-2] = (df_temp.iloc[0:1,7]).mean()\n",
    "        df_temp.iloc[2,-1] = (df_temp.iloc[0:1,8]).mean()\n",
    "    else:\n",
    "        df_temp.iloc[0,-4] = df_temp.iloc[0,-8]\n",
    "        df_temp.iloc[0,-3] = df_temp.iloc[0,-7]\n",
    "        df_temp.iloc[0,-2] = df_temp.iloc[0,-6]\n",
    "        df_temp.iloc[0,-1] = df_temp.iloc[0,-5]\n",
    "        df_temp.iloc[1,-4] = df_temp.iloc[0,13]\n",
    "        df_temp.iloc[1,-3] = df_temp.iloc[0,6]\n",
    "        df_temp.iloc[1,-2] = df_temp.iloc[0,7]\n",
    "        df_temp.iloc[1,-1] = df_temp.iloc[0,8]        \n",
    "        for i in range(2,nb_games):\n",
    "            df_temp.iloc[i,-4] = (df_temp.iloc[(i-2):(i-1),13]).mean()\n",
    "            df_temp.iloc[i,-3] = (df_temp.iloc[(i-2):(i-1),6]).mean()\n",
    "            df_temp.iloc[i,-2] = (df_temp.iloc[(i-2):(i-1),7]).mean()\n",
    "            df_temp.iloc[i,-1] = (df_temp.iloc[(i-2):(i-1),8]).mean()\n",
    "    df_rm2on3 = pd.concat([df_rm2on3,df_temp], axis = 0)"
   ]
  },
  {
   "cell_type": "code",
   "execution_count": 29,
   "id": "65acfb39",
   "metadata": {},
   "outputs": [],
   "source": [
    "#Merge avec le dataset importé enrichi des rolling means publishers\n",
    "df_rm = df_rm.merge(right=df_rm2on3, on=['Name', 'Platform', 'Year', 'Genre', 'Publisher', 'Studio', 'Score',\n",
    "       'Rate', 'Review', 'NA_Sales', 'EU_Sales', 'JP_Sales', 'Other_Sales',\n",
    "       'Global_Sales', 'GK_licence', 'GK_distributeur', 'Mois', 'Date_Sortie',\n",
    "        'RM_Publisher', 'RM_Publisher_score', 'RM_Publisher_rate', 'RM_Publisher_reviews'], how='left')"
   ]
  },
  {
   "cell_type": "code",
   "execution_count": 30,
   "id": "f3c68d40",
   "metadata": {},
   "outputs": [],
   "source": [
    "#Gestion des NaN : remplacement des NaN Studio par les moyennes mobiles des publishers\n",
    "df_rm[\"RM_Studio\"]=df_rm[\"RM_Studio\"].fillna(df_rm[\"RM_Publisher\"])\n",
    "df_rm[\"RM_Studio_score\"]=df_rm[\"RM_Studio_score\"].fillna(df_rm[\"RM_Publisher_score\"])\n",
    "df_rm[\"RM_Studio_rate\"]=df_rm[\"RM_Studio_rate\"].fillna(df_rm[\"RM_Publisher_rate\"])\n",
    "df_rm[\"RM_Studio_reviews\"]=df_rm[\"RM_Studio_reviews\"].fillna(df_rm[\"RM_Publisher_reviews\"])"
   ]
  },
  {
   "cell_type": "markdown",
   "id": "b21ccc32",
   "metadata": {},
   "source": [
    "# ROLLING MEANS LICENCES\n",
    "Création des moyennes mobiles des ventes, des scores, des rates et des reviews"
   ]
  },
  {
   "cell_type": "code",
   "execution_count": 31,
   "id": "26e25a7b",
   "metadata": {},
   "outputs": [],
   "source": [
    "df_licence = df_rm.sort_values(by = ['GK_licence','Date_Sortie'], ascending=True)\n",
    "licences = df_licence['GK_licence'].unique()\n",
    "licences = np.delete(licences, -1)\n",
    "df_licence['RM_Licence'] = np.nan\n",
    "df_licence[\"RM_Licence_score\"] = np.nan\n",
    "df_licence[\"RM_Licence_rate\"] = np.nan\n",
    "df_licence[\"RM_Licence_reviews\"] = np.nan\n",
    "df_rm3on3 = pd.DataFrame(columns=df_licence.columns)\n",
    "for licence in licences:\n",
    "    df_temp = df_licence[df_licence['GK_licence']==licence]\n",
    "    nb_games = df_temp.shape[0]\n",
    "    if nb_games == 1:\n",
    "        df_temp.iloc[0,-4] = df_temp.iloc[0,-8]\n",
    "        df_temp.iloc[0,-3] = df_temp.iloc[0,-7]\n",
    "        df_temp.iloc[0,-2] = df_temp.iloc[0,-6]\n",
    "        df_temp.iloc[0,-1] = df_temp.iloc[0,-5]\n",
    "    elif nb_games == 2:\n",
    "        df_temp.iloc[0,-4] = df_temp.iloc[0,-8]\n",
    "        df_temp.iloc[0,-3] = df_temp.iloc[0,-7]\n",
    "        df_temp.iloc[0,-2] = df_temp.iloc[0,-6]\n",
    "        df_temp.iloc[0,-1] = df_temp.iloc[0,-5]\n",
    "        df_temp.iloc[1,-4] = df_temp.iloc[0,13]\n",
    "        df_temp.iloc[1,-3] = df_temp.iloc[0,6]\n",
    "        df_temp.iloc[1,-2] = df_temp.iloc[0,7]\n",
    "        df_temp.iloc[1,-1] = df_temp.iloc[0,8]\n",
    "    elif nb_games == 3:\n",
    "        df_temp.iloc[0,-4] = df_temp.iloc[0,-8]\n",
    "        df_temp.iloc[0,-3] = df_temp.iloc[0,-7]\n",
    "        df_temp.iloc[0,-2] = df_temp.iloc[0,-6]\n",
    "        df_temp.iloc[0,-1] = df_temp.iloc[0,-5]\n",
    "        df_temp.iloc[1,-4] = df_temp.iloc[0,13]\n",
    "        df_temp.iloc[1,-3] = df_temp.iloc[0,6]\n",
    "        df_temp.iloc[1,-2] = df_temp.iloc[0,7]\n",
    "        df_temp.iloc[1,-1] = df_temp.iloc[0,8]\n",
    "        df_temp.iloc[2,-4] = (df_temp.iloc[0:1,13]).mean()\n",
    "        df_temp.iloc[2,-3] = (df_temp.iloc[0:1,6]).mean()\n",
    "        df_temp.iloc[2,-2] = (df_temp.iloc[0:1,7]).mean()\n",
    "        df_temp.iloc[2,-1] = (df_temp.iloc[0:1,8]).mean()\n",
    "    else:\n",
    "        df_temp.iloc[0,-4] = df_temp.iloc[0,-8]\n",
    "        df_temp.iloc[0,-3] = df_temp.iloc[0,-7]\n",
    "        df_temp.iloc[0,-2] = df_temp.iloc[0,-6]\n",
    "        df_temp.iloc[0,-1] = df_temp.iloc[0,-5]\n",
    "        df_temp.iloc[1,-4] = df_temp.iloc[0,13]\n",
    "        df_temp.iloc[1,-3] = df_temp.iloc[0,6]\n",
    "        df_temp.iloc[1,-2] = df_temp.iloc[0,7]\n",
    "        df_temp.iloc[1,-1] = df_temp.iloc[0,8]        \n",
    "        for i in range(2,nb_games):\n",
    "            df_temp.iloc[i,-4] = (df_temp.iloc[(i-2):(i-1),13]).mean()\n",
    "            df_temp.iloc[i,-3] = (df_temp.iloc[(i-2):(i-1),6]).mean()\n",
    "            df_temp.iloc[i,-2] = (df_temp.iloc[(i-2):(i-1),7]).mean()\n",
    "            df_temp.iloc[i,-1] = (df_temp.iloc[(i-2):(i-1),8]).mean()\n",
    "    df_rm3on3 = pd.concat([df_rm3on3,df_temp], axis = 0)"
   ]
  },
  {
   "cell_type": "code",
   "execution_count": 32,
   "id": "01a33d45",
   "metadata": {},
   "outputs": [],
   "source": [
    "#Merge avec le dataset importé enrichi des rolling means publishers et studios\n",
    "df_rm = df_rm.merge(right=df_rm3on3, on=['Name', 'Platform', 'Year', 'Genre', 'Publisher', 'Studio', 'Score',\n",
    "       'Rate', 'Review', 'NA_Sales', 'EU_Sales', 'JP_Sales', 'Other_Sales',\n",
    "       'Global_Sales', 'GK_licence', 'GK_distributeur', 'Mois', 'Date_Sortie',\n",
    "        'RM_Publisher', 'RM_Publisher_score', 'RM_Publisher_rate', 'RM_Publisher_reviews',\n",
    "        'RM_Studio', 'RM_Studio_score', 'RM_Studio_rate', 'RM_Studio_reviews'], how='left')"
   ]
  },
  {
   "cell_type": "code",
   "execution_count": 33,
   "id": "bb6e3a79",
   "metadata": {},
   "outputs": [],
   "source": [
    "#Gestion des NaN : remplacement des NaN Licence par les moyennes mobiles des studios\n",
    "df_rm[\"RM_Licence\"]=df_rm[\"RM_Licence\"].fillna(df_rm[\"RM_Studio\"])\n",
    "df_rm[\"RM_Licence_score\"]=df_rm[\"RM_Licence_score\"].fillna(df_rm[\"RM_Studio_score\"])\n",
    "df_rm[\"RM_Licence_rate\"]=df_rm[\"RM_Licence_rate\"].fillna(df_rm[\"RM_Studio_rate\"])\n",
    "df_rm[\"RM_Licence_reviews\"]=df_rm[\"RM_Licence_reviews\"].fillna(df_rm[\"RM_Studio_reviews\"])"
   ]
  },
  {
   "cell_type": "code",
   "execution_count": 34,
   "id": "ab1a9800",
   "metadata": {},
   "outputs": [],
   "source": [
    "#Gestion des NaN : remplacement des NaN Studio par les moyennes mobiles des Licences\n",
    "df_rm[\"RM_Studio\"]=df_rm[\"RM_Studio\"].fillna(df_rm[\"RM_Licence\"])\n",
    "df_rm[\"RM_Studio_score\"]=df_rm[\"RM_Studio_score\"].fillna(df_rm[\"RM_Licence_score\"])\n",
    "df_rm[\"RM_Studio_rate\"]=df_rm[\"RM_Studio_rate\"].fillna(df_rm[\"RM_Licence_rate\"])\n",
    "df_rm[\"RM_Studio_reviews\"]=df_rm[\"RM_Studio_reviews\"].fillna(df_rm[\"RM_Licence_reviews\"])\n",
    "\n",
    "#Gestion des NaN : remplacement des NaN Publisher par les moyennes mobiles des Studios\n",
    "df_rm[\"RM_Publisher\"]=df_rm[\"RM_Publisher\"].fillna(df_rm[\"RM_Studio\"])\n",
    "df_rm[\"RM_Publisher_score\"]=df_rm[\"RM_Publisher_score\"].fillna(df_rm[\"RM_Studio_score\"])\n",
    "df_rm[\"RM_Publisher_rate\"]=df_rm[\"RM_Publisher_rate\"].fillna(df_rm[\"RM_Studio_rate\"])\n",
    "df_rm[\"RM_Publisher_reviews\"]=df_rm[\"RM_Publisher_reviews\"].fillna(df_rm[\"RM_Studio_reviews\"])"
   ]
  },
  {
   "cell_type": "code",
   "execution_count": 35,
   "id": "9d507e29",
   "metadata": {},
   "outputs": [],
   "source": [
    "#Gestions des NaN : remplacement des moyennes mobiles des scores par celles des rates\n",
    "df_rm[\"RM_Publisher_score\"]=df_rm[\"RM_Publisher_score\"].fillna(df_rm[\"RM_Publisher_rate\"])\n",
    "df_rm[\"RM_Studio_score\"]=df_rm[\"RM_Studio_score\"].fillna(df_rm[\"RM_Studio_rate\"])\n",
    "df_rm[\"RM_Licence_score\"]=df_rm[\"RM_Licence_score\"].fillna(df_rm[\"RM_Licence_rate\"])\n",
    "\n",
    "#Gestions des NaN : remplacement des moyennes mobiles des rates par celles des scores\n",
    "df_rm[\"RM_Publisher_rate\"]=df_rm[\"RM_Publisher_rate\"].fillna(df_rm[\"RM_Publisher_score\"])\n",
    "df_rm[\"RM_Studio_rate\"]=df_rm[\"RM_Studio_rate\"].fillna(df_rm[\"RM_Studio_score\"])\n",
    "df_rm[\"RM_Licence_rate\"]=df_rm[\"RM_Licence_rate\"].fillna(df_rm[\"RM_Licence_score\"])"
   ]
  },
  {
   "cell_type": "code",
   "execution_count": 36,
   "id": "dada0213",
   "metadata": {},
   "outputs": [],
   "source": [
    "#Gestions des NaN : remplacement des NaN des licences par les noms de jeux\n",
    "df_rm[\"GK_licence\"]=df_rm[\"GK_licence\"].fillna(df_rm[\"Name\"])\n",
    "#Gestions des NaN : remplacement des NaN des studios par les licences\n",
    "df_rm['Studio']=df_rm['Studio'].fillna(df_rm['GK_licence'])\n",
    "#Gestions des NaN : remplacement des NaN des publishers par les studios\n",
    "df_rm['Publisher']=df_rm['Publisher'].fillna(df_rm['Studio'])\n",
    "\n",
    "#Ceci afin d'éliminer un maximum de NaN tout en gardant une cohérence dans les données."
   ]
  },
  {
   "cell_type": "code",
   "execution_count": 37,
   "id": "9e6bb3ad",
   "metadata": {},
   "outputs": [
    {
     "name": "stdout",
     "output_type": "stream",
     "text": [
      "<class 'pandas.core.frame.DataFrame'>\n",
      "Int64Index: 16538 entries, 0 to 16537\n",
      "Data columns (total 30 columns):\n",
      " #   Column                Non-Null Count  Dtype         \n",
      "---  ------                --------------  -----         \n",
      " 0   Name                  16538 non-null  object        \n",
      " 1   Platform              16538 non-null  object        \n",
      " 2   Year                  16538 non-null  object        \n",
      " 3   Genre                 16538 non-null  object        \n",
      " 4   Publisher             16538 non-null  object        \n",
      " 5   Studio                16538 non-null  object        \n",
      " 6   Score                 10441 non-null  float64       \n",
      " 7   Rate                  11556 non-null  float64       \n",
      " 8   Review                9928 non-null   float64       \n",
      " 9   NA_Sales              16538 non-null  float64       \n",
      " 10  EU_Sales              16538 non-null  float64       \n",
      " 11  JP_Sales              16538 non-null  float64       \n",
      " 12  Other_Sales           16538 non-null  float64       \n",
      " 13  Global_Sales          16538 non-null  float64       \n",
      " 14  GK_licence            16538 non-null  object        \n",
      " 15  GK_distributeur       2415 non-null   object        \n",
      " 16  Mois                  16538 non-null  object        \n",
      " 17  Date_Sortie           16538 non-null  datetime64[ns]\n",
      " 18  RM_Publisher          16516 non-null  float64       \n",
      " 19  RM_Publisher_score    14347 non-null  float64       \n",
      " 20  RM_Publisher_rate     14347 non-null  float64       \n",
      " 21  RM_Publisher_reviews  13076 non-null  float64       \n",
      " 22  RM_Studio             16516 non-null  float64       \n",
      " 23  RM_Studio_score       14347 non-null  float64       \n",
      " 24  RM_Studio_rate        14347 non-null  float64       \n",
      " 25  RM_Studio_reviews     13076 non-null  float64       \n",
      " 26  RM_Licence            16516 non-null  float64       \n",
      " 27  RM_Licence_score      14347 non-null  float64       \n",
      " 28  RM_Licence_rate       14347 non-null  float64       \n",
      " 29  RM_Licence_reviews    13076 non-null  float64       \n",
      "dtypes: datetime64[ns](1), float64(20), object(9)\n",
      "memory usage: 3.9+ MB\n"
     ]
    }
   ],
   "source": [
    "df_rm.info()"
   ]
  },
  {
   "cell_type": "markdown",
   "id": "70508d1c",
   "metadata": {},
   "source": [
    "Notre dataset est presque complet.<br>\n",
    "On élimine les colonnes devenues inutiles"
   ]
  },
  {
   "cell_type": "code",
   "execution_count": 38,
   "id": "b04c5c21",
   "metadata": {},
   "outputs": [],
   "source": [
    "df_rm=df_rm.drop([\"GK_distributeur\",\"Rate\",\"Score\",\"Review\"],axis=1)"
   ]
  },
  {
   "cell_type": "markdown",
   "id": "223019ba",
   "metadata": {},
   "source": [
    "Les NaN restant seront gérés pendant le pré-processing, au moment de la modélisation."
   ]
  },
  {
   "cell_type": "code",
   "execution_count": 39,
   "id": "158bd284",
   "metadata": {},
   "outputs": [],
   "source": [
    "df_rm.to_csv('../data/03_GameSpy_RollingMeans.csv')"
   ]
  }
 ],
 "metadata": {
  "kernelspec": {
   "display_name": "Python 3",
   "language": "python",
   "name": "python3"
  },
  "language_info": {
   "codemirror_mode": {
    "name": "ipython",
    "version": 3
   },
   "file_extension": ".py",
   "mimetype": "text/x-python",
   "name": "python",
   "nbconvert_exporter": "python",
   "pygments_lexer": "ipython3",
   "version": "3.8.8"
  }
 },
 "nbformat": 4,
 "nbformat_minor": 5
}

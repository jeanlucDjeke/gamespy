{
 "cells": [
  {
   "cell_type": "code",
   "execution_count": 13,
   "id": "93171091",
   "metadata": {},
   "outputs": [],
   "source": [
    "import numpy as np\n",
    "import pandas as pd\n",
    "\n",
    "import warnings\n",
    "warnings.filterwarnings('ignore')"
   ]
  },
  {
   "cell_type": "code",
   "execution_count": 14,
   "id": "980b90ab",
   "metadata": {},
   "outputs": [],
   "source": [
    "df_rm = pd.read_csv('../data/04_GameSpy_FinalDataset.csv', index_col=0)"
   ]
  },
  {
   "cell_type": "markdown",
   "id": "ce9e4b7d",
   "metadata": {},
   "source": [
    "### Gestion des NaN des rolling means de Studio - Publisher"
   ]
  },
  {
   "cell_type": "code",
   "execution_count": 15,
   "id": "f55a28a6",
   "metadata": {},
   "outputs": [],
   "source": [
    "df_rm[\"RM_Studio\"]=df_rm[\"RM_Studio\"].fillna(df_rm[\"RM_Publisher\"])\n",
    "df_rm[\"RM_Studio_score\"]=df_rm[\"RM_Studio_score\"].fillna(df_rm[\"RM_Publisher_score\"])\n",
    "df_rm[\"RM_Studio_rate\"]=df_rm[\"RM_Studio_rate\"].fillna(df_rm[\"RM_Publisher_rate\"])\n",
    "df_rm[\"RM_Studio_reviews\"]=df_rm[\"RM_Studio_reviews\"].fillna(df_rm[\"RM_Publisher_reviews\"])"
   ]
  },
  {
   "cell_type": "markdown",
   "id": "eb7c8f65",
   "metadata": {},
   "source": [
    "### Gestion des NaN des rolling means de Licence"
   ]
  },
  {
   "cell_type": "code",
   "execution_count": 16,
   "id": "e510c44b",
   "metadata": {},
   "outputs": [],
   "source": [
    "df_rm[\"RM_Licence\"]=df_rm[\"RM_Licence\"].fillna(df_rm[\"RM_Studio\"])\n",
    "df_rm[\"RM_Licence_score\"]=df_rm[\"RM_Licence_score\"].fillna(df_rm[\"RM_Studio_score\"])\n",
    "df_rm[\"RM_Licence_rate\"]=df_rm[\"RM_Licence_rate\"].fillna(df_rm[\"RM_Studio_rate\"])\n",
    "df_rm[\"RM_Licence_reviews\"]=df_rm[\"RM_Licence_reviews\"].fillna(df_rm[\"RM_Studio_reviews\"])"
   ]
  },
  {
   "cell_type": "markdown",
   "id": "d3228dab",
   "metadata": {},
   "source": [
    "### Gestion des NaN des rolling means de Studio - Licence | Publisher - Studio"
   ]
  },
  {
   "cell_type": "code",
   "execution_count": 17,
   "id": "cb7f130d",
   "metadata": {},
   "outputs": [],
   "source": [
    "df_rm[\"RM_Studio\"]=df_rm[\"RM_Studio\"].fillna(df_rm[\"RM_Licence\"])\n",
    "df_rm[\"RM_Studio_score\"]=df_rm[\"RM_Studio_score\"].fillna(df_rm[\"RM_Licence_score\"])\n",
    "df_rm[\"RM_Studio_rate\"]=df_rm[\"RM_Studio_rate\"].fillna(df_rm[\"RM_Licence_rate\"])\n",
    "df_rm[\"RM_Studio_reviews\"]=df_rm[\"RM_Studio_reviews\"].fillna(df_rm[\"RM_Licence_reviews\"])\n",
    "\n",
    "df_rm[\"RM_Publisher\"]=df_rm[\"RM_Publisher\"].fillna(df_rm[\"RM_Studio\"])\n",
    "df_rm[\"RM_Publisher_score\"]=df_rm[\"RM_Publisher_score\"].fillna(df_rm[\"RM_Studio_score\"])\n",
    "df_rm[\"RM_Publisher_rate\"]=df_rm[\"RM_Publisher_rate\"].fillna(df_rm[\"RM_Studio_rate\"])\n",
    "df_rm[\"RM_Publisher_reviews\"]=df_rm[\"RM_Publisher_reviews\"].fillna(df_rm[\"RM_Studio_reviews\"])"
   ]
  },
  {
   "cell_type": "markdown",
   "id": "847f50ec",
   "metadata": {},
   "source": [
    "### Gestion des NaN des rolling means de Publisher Score - Rate | Rate - Score"
   ]
  },
  {
   "cell_type": "code",
   "execution_count": 18,
   "id": "4279a74e",
   "metadata": {},
   "outputs": [],
   "source": [
    "df_rm[\"RM_Publisher_score\"]=df_rm[\"RM_Publisher_score\"].fillna(df_rm[\"RM_Publisher_rate\"])\n",
    "df_rm[\"RM_Studio_score\"]=df_rm[\"RM_Studio_score\"].fillna(df_rm[\"RM_Studio_rate\"])\n",
    "df_rm[\"RM_Licence_score\"]=df_rm[\"RM_Licence_score\"].fillna(df_rm[\"RM_Licence_rate\"])\n",
    "\n",
    "df_rm[\"RM_Publisher_rate\"]=df_rm[\"RM_Publisher_rate\"].fillna(df_rm[\"RM_Publisher_score\"])\n",
    "df_rm[\"RM_Studio_rate\"]=df_rm[\"RM_Studio_rate\"].fillna(df_rm[\"RM_Studio_score\"])\n",
    "df_rm[\"RM_Licence_rate\"]=df_rm[\"RM_Licence_rate\"].fillna(df_rm[\"RM_Licence_score\"])"
   ]
  },
  {
   "cell_type": "markdown",
   "id": "238007e1",
   "metadata": {},
   "source": [
    "### Gestion des NaN de Licence - Name | Studio - Licence | Publisher - Studio"
   ]
  },
  {
   "cell_type": "code",
   "execution_count": 19,
   "id": "198e4ec7",
   "metadata": {},
   "outputs": [],
   "source": [
    "df_rm[\"GK_licence\"]=df_rm[\"GK_licence\"].fillna(df_rm[\"Name\"])\n",
    "df_rm['Studio']=df_rm['Studio'].fillna(df_rm['GK_licence'])\n",
    "df_rm['Publisher']=df_rm['Publisher'].fillna(df_rm['Studio'])"
   ]
  },
  {
   "cell_type": "markdown",
   "id": "555a5262",
   "metadata": {},
   "source": [
    "# MODELISATION - Regression"
   ]
  },
  {
   "cell_type": "code",
   "execution_count": 22,
   "id": "4454886f",
   "metadata": {},
   "outputs": [],
   "source": [
    "from sklearn.preprocessing import StandardScaler\n",
    "from sklearn.model_selection import GridSearchCV\n",
    "from sklearn.model_selection import train_test_split\n",
    "from sklearn.metrics import make_scorer\n",
    "\n",
    "from sklearn.linear_model import LinearRegression, Lasso\n",
    "from sklearn.tree import DecisionTreeRegressor\n",
    "from sklearn.svm import SVR\n",
    "from sklearn import linear_model\n",
    "from sklearn.ensemble import RandomForestRegressor"
   ]
  },
  {
   "cell_type": "code",
   "execution_count": 23,
   "id": "39c51826",
   "metadata": {},
   "outputs": [],
   "source": [
    "df_rm_tosplit = df_rm.drop(['Name', 'NA_Sales', 'EU_Sales', 'JP_Sales', 'Other_Sales'], axis=1)"
   ]
  },
  {
   "cell_type": "code",
   "execution_count": 24,
   "id": "a501bc16",
   "metadata": {},
   "outputs": [],
   "source": [
    "def __encode(df):\n",
    "    cat_cols = df.select_dtypes(include=['object']).columns.to_list()\n",
    "    for col in cat_cols:\n",
    "        i = 1\n",
    "        occurences = df[col].unique()\n",
    "        for occ in occurences:\n",
    "            df.loc[df_rm_tosplit[col]==occ, col] = i\n",
    "            i+=1\n",
    "\n",
    "    df[cat_cols] = df[cat_cols].astype('float')"
   ]
  },
  {
   "cell_type": "markdown",
   "id": "e4fb4d00",
   "metadata": {},
   "source": [
    "### Echantillonnage "
   ]
  },
  {
   "cell_type": "code",
   "execution_count": 25,
   "id": "00b3b29c",
   "metadata": {},
   "outputs": [],
   "source": [
    "target=df_rm_tosplit[\"Global_Sales\"]\n",
    "data=df_rm_tosplit.drop(\"Global_Sales\",axis=1)\n",
    "\n",
    "X_train,X_test,y_train,y_test=train_test_split(data,target,test_size=0.2,random_state=40)"
   ]
  },
  {
   "cell_type": "markdown",
   "id": "128b5206",
   "metadata": {},
   "source": [
    "### Train - Remplacement des NaN par la moyenne des Rolling Means avant la date de sortie"
   ]
  },
  {
   "cell_type": "markdown",
   "id": "0d39d076",
   "metadata": {},
   "source": [
    "### Publishers"
   ]
  },
  {
   "cell_type": "code",
   "execution_count": 26,
   "id": "c8fa9bb2",
   "metadata": {},
   "outputs": [],
   "source": [
    "rm_publisher=[]\n",
    "for date,rm in zip(X_train[\"Date_Sortie\"],X_train[\"RM_Publisher\"]):\n",
    "    if str(rm)==\"nan\":\n",
    "        rm_publisher.append(X_train[\"RM_Publisher\"][X_train[\"Date_Sortie\"]<str(date)].mean())\n",
    "    else:\n",
    "        rm_publisher.append(rm)\n",
    "\n",
    "rm_studio=[]\n",
    "for date,rm in zip(X_train[\"Date_Sortie\"],X_train[\"RM_Studio\"]):\n",
    "    if str(rm)==\"nan\":\n",
    "        rm_studio.append(X_train[\"RM_Studio\"][X_train[\"Date_Sortie\"]<str(date)].mean())\n",
    "    else:\n",
    "        rm_studio.append(rm)\n",
    "        \n",
    "rm_licence=[]\n",
    "for date,rm in zip(X_train[\"Date_Sortie\"],X_train[\"RM_Licence\"]):\n",
    "    if str(rm)==\"nan\":\n",
    "        rm_licence.append(X_train[\"RM_Licence\"][X_train[\"Date_Sortie\"]<str(date)].mean())\n",
    "    else:\n",
    "        rm_licence.append(rm)\n",
    "        \n",
    "X_train[\"RM_Publisher\"]=rm_publisher\n",
    "X_train[\"RM_Studio\"]=rm_studio\n",
    "X_train[\"RM_Licence\"]=rm_licence"
   ]
  },
  {
   "cell_type": "markdown",
   "id": "e2ce3af0",
   "metadata": {},
   "source": [
    "### Publisher , Studio , Licence => Score"
   ]
  },
  {
   "cell_type": "code",
   "execution_count": 27,
   "id": "d567f1ea",
   "metadata": {},
   "outputs": [],
   "source": [
    "rm_publisher_score=[]\n",
    "for date,rm in zip(X_train[\"Date_Sortie\"],X_train[\"RM_Publisher_score\"]):\n",
    "    if str(rm)==\"nan\":\n",
    "        rm_publisher_score.append(X_train[\"RM_Publisher_score\"][X_train[\"Date_Sortie\"]<str(date)].mean())\n",
    "    else:\n",
    "        rm_publisher_score.append(rm)\n",
    "        \n",
    "rm_studio_score=[]\n",
    "for date,rm in zip(X_train[\"Date_Sortie\"],X_train[\"RM_Studio_score\"]):\n",
    "    if str(rm)==\"nan\":\n",
    "        rm_studio_score.append(X_train[\"RM_Studio_score\"][X_train[\"Date_Sortie\"]<str(date)].mean())\n",
    "    else:\n",
    "        rm_studio_score.append(rm)\n",
    "        \n",
    "rm_licence_score=[]\n",
    "for date,rm in zip(X_train[\"Date_Sortie\"],X_train[\"RM_Licence_score\"]):\n",
    "    if str(rm)==\"nan\":\n",
    "        rm_licence_score.append(X_train[\"RM_Licence_score\"][X_train[\"Date_Sortie\"]<str(date)].mean())\n",
    "    else:\n",
    "        rm_licence_score.append(rm)\n",
    "        \n",
    "X_train[\"RM_Publisher_score\"]=rm_publisher_score\n",
    "X_train[\"RM_Studio_score\"]=rm_studio_score\n",
    "X_train[\"RM_Licence_score\"]=rm_licence_score"
   ]
  },
  {
   "cell_type": "markdown",
   "id": "60decf64",
   "metadata": {},
   "source": [
    "### Publisher , Studio , Licence => Rate"
   ]
  },
  {
   "cell_type": "code",
   "execution_count": 28,
   "id": "3fbee7a7",
   "metadata": {},
   "outputs": [],
   "source": [
    "rm_publisher_rate=[]\n",
    "for date,rm in zip(X_train[\"Date_Sortie\"],X_train[\"RM_Publisher_rate\"]):\n",
    "    if str(rm)==\"nan\":\n",
    "        rm_publisher_rate.append(X_train[\"RM_Publisher_rate\"][X_train[\"Date_Sortie\"]<str(date)].mean())\n",
    "    else:\n",
    "        rm_publisher_rate.append(rm)\n",
    "        \n",
    "rm_studio_rate=[]\n",
    "for date,rm in zip(X_train[\"Date_Sortie\"],X_train[\"RM_Studio_rate\"]):\n",
    "    if str(rm)==\"nan\":\n",
    "        rm_studio_rate.append(X_train[\"RM_Studio_rate\"][X_train[\"Date_Sortie\"]<str(date)].mean())\n",
    "    else:\n",
    "        rm_studio_rate.append(rm)\n",
    "                \n",
    "rm_licence_rate=[]\n",
    "for date,rm in zip(X_train[\"Date_Sortie\"],X_train[\"RM_Licence_rate\"]):\n",
    "    if str(rm)==\"nan\":\n",
    "        rm_licence_rate.append(X_train[\"RM_Licence_rate\"][X_train[\"Date_Sortie\"]<str(date)].mean())\n",
    "    else:\n",
    "        rm_licence_rate.append(rm)\n",
    "                \n",
    "X_train[\"RM_Publisher_rate\"]=rm_publisher_rate\n",
    "X_train[\"RM_Studio_rate\"]=rm_studio_rate\n",
    "X_train[\"RM_Licence_rate\"]=rm_licence_rate"
   ]
  },
  {
   "cell_type": "markdown",
   "id": "6291625d",
   "metadata": {},
   "source": [
    "### Publishers , Studio , Licence => Reviews"
   ]
  },
  {
   "cell_type": "code",
   "execution_count": 29,
   "id": "a7d9afbd",
   "metadata": {},
   "outputs": [],
   "source": [
    "rm_publisher_reviews=[]\n",
    "for date,rm in zip(X_train[\"Date_Sortie\"],X_train[\"RM_Publisher_reviews\"]):\n",
    "    if str(rm)==\"nan\":\n",
    "        rm_publisher_reviews.append(X_train[\"RM_Publisher_reviews\"][X_train[\"Date_Sortie\"]<str(date)].mean())\n",
    "    else:\n",
    "        rm_publisher_reviews.append(rm)\n",
    "        \n",
    "rm_studio_reviews=[]\n",
    "for date,rm in zip(X_train[\"Date_Sortie\"],X_train[\"RM_Studio_reviews\"]):\n",
    "    if str(rm)==\"nan\":\n",
    "        rm_studio_reviews.append(X_train[\"RM_Studio_reviews\"][X_train[\"Date_Sortie\"]<str(date)].mean())\n",
    "    else:\n",
    "        rm_studio_reviews.append(rm)\n",
    "        \n",
    "rm_licence_reviews=[]\n",
    "for date,rm in zip(X_train[\"Date_Sortie\"],X_train[\"RM_Licence_reviews\"]):\n",
    "    if str(rm)==\"nan\":\n",
    "        rm_licence_reviews.append(X_train[\"RM_Licence_reviews\"][X_train[\"Date_Sortie\"]<str(date)].mean())\n",
    "    else:\n",
    "        rm_licence_reviews.append(rm)\n",
    "        \n",
    "X_train[\"RM_Publisher_reviews\"]=rm_publisher_reviews\n",
    "X_train[\"RM_Studio_reviews\"]=rm_studio_reviews\n",
    "X_train[\"RM_Licence_reviews\"]=rm_licence_reviews"
   ]
  },
  {
   "cell_type": "markdown",
   "id": "1e5e2e9a",
   "metadata": {},
   "source": [
    "### Test - Remplacement des NaN par la moyenne des Rolling Means avant la date de sortie"
   ]
  },
  {
   "cell_type": "markdown",
   "id": "cb1ed1c2",
   "metadata": {},
   "source": [
    "### Publishers"
   ]
  },
  {
   "cell_type": "code",
   "execution_count": 30,
   "id": "aefe3596",
   "metadata": {},
   "outputs": [],
   "source": [
    "rm_publisher=[]\n",
    "for date,rm in zip(X_test[\"Date_Sortie\"],X_test[\"RM_Publisher\"]):\n",
    "    if str(rm)==\"nan\":\n",
    "        rm_publisher.append(X_test[\"RM_Publisher\"][X_test[\"Date_Sortie\"]<str(date)].mean())\n",
    "    else:\n",
    "        rm_publisher.append(rm)\n",
    "\n",
    "rm_studio=[]\n",
    "for date,rm in zip(X_test[\"Date_Sortie\"],X_test[\"RM_Studio\"]):\n",
    "    if str(rm)==\"nan\":\n",
    "        rm_studio.append(X_test[\"RM_Studio\"][X_test[\"Date_Sortie\"]<str(date)].mean())\n",
    "    else:\n",
    "        rm_studio.append(rm)\n",
    "        \n",
    "rm_licence=[]\n",
    "for date,rm in zip(X_test[\"Date_Sortie\"],X_test[\"RM_Licence\"]):\n",
    "    if str(rm)==\"nan\":\n",
    "        rm_licence.append(X_test[\"RM_Licence\"][X_test[\"Date_Sortie\"]<str(date)].mean())\n",
    "    else:\n",
    "        rm_licence.append(rm)\n",
    "        \n",
    "X_test[\"RM_Publisher\"]=rm_publisher\n",
    "X_test[\"RM_Studio\"]=rm_studio\n",
    "X_test[\"RM_Licence\"]=rm_licence"
   ]
  },
  {
   "cell_type": "markdown",
   "id": "d84ada11",
   "metadata": {},
   "source": [
    "### Publishers , Studio , Licence => Score"
   ]
  },
  {
   "cell_type": "code",
   "execution_count": 31,
   "id": "9ca97b3b",
   "metadata": {},
   "outputs": [],
   "source": [
    "rm_publisher_score=[]\n",
    "for date,rm in zip(X_test[\"Date_Sortie\"],X_test[\"RM_Publisher_score\"]):\n",
    "    if str(rm)==\"nan\":\n",
    "        rm_publisher_score.append(X_test[\"RM_Publisher_score\"][X_test[\"Date_Sortie\"]<str(date)].mean())\n",
    "    else:\n",
    "        rm_publisher_score.append(rm)\n",
    "        \n",
    "rm_studio_score=[]\n",
    "for date,rm in zip(X_test[\"Date_Sortie\"],X_test[\"RM_Studio_score\"]):\n",
    "    if str(rm)==\"nan\":\n",
    "        rm_studio_score.append(X_test[\"RM_Studio_score\"][X_test[\"Date_Sortie\"]<str(date)].mean())\n",
    "    else:\n",
    "        rm_studio_score.append(rm)\n",
    "        \n",
    "rm_licence_score=[]\n",
    "for date,rm in zip(X_test[\"Date_Sortie\"],X_test[\"RM_Licence_score\"]):\n",
    "    if str(rm)==\"nan\":\n",
    "        rm_licence_score.append(X_test[\"RM_Licence_score\"][X_test[\"Date_Sortie\"]<str(date)].mean())\n",
    "    else:\n",
    "        rm_licence_score.append(rm)\n",
    "        \n",
    "X_test[\"RM_Publisher_score\"]=rm_publisher_score\n",
    "X_test[\"RM_Studio_score\"]=rm_studio_score\n",
    "X_test[\"RM_Licence_score\"]=rm_licence_score"
   ]
  },
  {
   "cell_type": "markdown",
   "id": "ae7e0d75",
   "metadata": {},
   "source": [
    "### Publishers Rate"
   ]
  },
  {
   "cell_type": "code",
   "execution_count": 32,
   "id": "4c1eb4fb",
   "metadata": {},
   "outputs": [],
   "source": [
    "rm_publisher_rate=[]\n",
    "for date,rm in zip(X_test[\"Date_Sortie\"],X_test[\"RM_Publisher_rate\"]):\n",
    "    if str(rm)==\"nan\":\n",
    "        rm_publisher_rate.append(X_test[\"RM_Publisher_rate\"][X_test[\"Date_Sortie\"]<str(date)].mean())\n",
    "    else:\n",
    "        rm_publisher_rate.append(rm)\n",
    "        \n",
    "rm_studio_rate=[]\n",
    "for date,rm in zip(X_test[\"Date_Sortie\"],X_test[\"RM_Studio_rate\"]):\n",
    "    if str(rm)==\"nan\":\n",
    "        rm_studio_rate.append(X_test[\"RM_Studio_rate\"][X_test[\"Date_Sortie\"]<str(date)].mean())\n",
    "    else:\n",
    "        rm_studio_rate.append(rm)\n",
    "                \n",
    "rm_licence_rate=[]\n",
    "for date,rm in zip(X_test[\"Date_Sortie\"],X_test[\"RM_Licence_rate\"]):\n",
    "    if str(rm)==\"nan\":\n",
    "        rm_licence_rate.append(X_test[\"RM_Licence_rate\"][X_test[\"Date_Sortie\"]<str(date)].mean())\n",
    "    else:\n",
    "        rm_licence_rate.append(rm)\n",
    "                \n",
    "X_test[\"RM_Publisher_rate\"]=rm_publisher_rate\n",
    "X_test[\"RM_Studio_rate\"]=rm_studio_rate\n",
    "X_test[\"RM_Licence_rate\"]=rm_licence_rate"
   ]
  },
  {
   "cell_type": "markdown",
   "id": "bf3d496a",
   "metadata": {},
   "source": [
    "### Publishers Reviews"
   ]
  },
  {
   "cell_type": "code",
   "execution_count": 33,
   "id": "d10fe9d1",
   "metadata": {},
   "outputs": [],
   "source": [
    "rm_publisher_reviews=[]\n",
    "for date,rm in zip(X_test[\"Date_Sortie\"],X_test[\"RM_Publisher_reviews\"]):\n",
    "    if str(rm)==\"nan\":\n",
    "        rm_publisher_reviews.append(X_test[\"RM_Publisher_reviews\"][X_test[\"Date_Sortie\"]<str(date)].mean())\n",
    "    else:\n",
    "        rm_publisher_reviews.append(rm)\n",
    "        \n",
    "rm_studio_reviews=[]\n",
    "for date,rm in zip(X_test[\"Date_Sortie\"],X_test[\"RM_Studio_reviews\"]):\n",
    "    if str(rm)==\"nan\":\n",
    "        rm_studio_reviews.append(X_test[\"RM_Studio_reviews\"][X_test[\"Date_Sortie\"]<str(date)].mean())\n",
    "    else:\n",
    "        rm_studio_reviews.append(rm)\n",
    "        \n",
    "rm_licence_reviews=[]\n",
    "for date,rm in zip(X_test[\"Date_Sortie\"],X_test[\"RM_Licence_reviews\"]):\n",
    "    if str(rm)==\"nan\":\n",
    "        rm_licence_reviews.append(X_test[\"RM_Licence_reviews\"][X_test[\"Date_Sortie\"]<str(date)].mean())\n",
    "    else:\n",
    "        rm_licence_reviews.append(rm)\n",
    "        \n",
    "X_test[\"RM_Publisher_reviews\"]=rm_publisher_reviews\n",
    "X_test[\"RM_Studio_reviews\"]=rm_studio_reviews\n",
    "X_test[\"RM_Licence_reviews\"]=rm_licence_reviews"
   ]
  },
  {
   "cell_type": "markdown",
   "id": "b2ddd920",
   "metadata": {},
   "source": [
    "### Calcul des moyennes mobiles sur l'echantillon d'entrainement"
   ]
  },
  {
   "cell_type": "code",
   "execution_count": 34,
   "id": "72b32fa6",
   "metadata": {},
   "outputs": [],
   "source": [
    "RM_Publisher_mean = X_train['RM_Publisher'].mean()\n",
    "RM_Publisher_score_mean = X_train['RM_Publisher_score'].mean()\n",
    "RM_Publisher_rate_mean = X_train['RM_Publisher_rate'].mean()\n",
    "RM_Publisher_reviews_mean = X_train['RM_Publisher_reviews'].mean()\n",
    "\n",
    "RM_Studio_mean = X_train['RM_Studio'].mean()\n",
    "RM_Studio_score_mean = X_train['RM_Studio_score'].mean()\n",
    "RM_Studio_rate_mean = X_train['RM_Studio_rate'].mean()\n",
    "RM_Studio_reviews_mean = X_train['RM_Studio_reviews'].mean()\n",
    "\n",
    "RM_Licence_mean = X_train['RM_Licence'].mean()\n",
    "RM_Licence_score_mean = X_train['RM_Licence_score'].mean()\n",
    "RM_Licence_rate_mean = X_train['RM_Licence_rate'].mean()\n",
    "RM_Licence_reviews_mean = X_train['RM_Licence_reviews'].mean()"
   ]
  },
  {
   "cell_type": "markdown",
   "id": "7342f3bb",
   "metadata": {},
   "source": [
    "### Application des moyennes de Rolling means sur les NaN de l'echantillon d'entraînement"
   ]
  },
  {
   "cell_type": "code",
   "execution_count": 35,
   "id": "89565a5d",
   "metadata": {},
   "outputs": [],
   "source": [
    "X_train['RM_Publisher'] = X_train['RM_Publisher'].fillna(RM_Publisher_mean)\n",
    "X_train['RM_Publisher_score'] = X_train['RM_Publisher_score'].fillna(RM_Publisher_score_mean)\n",
    "X_train['RM_Publisher_rate'] = X_train['RM_Publisher_rate'].fillna(RM_Publisher_rate_mean)\n",
    "X_train['RM_Publisher_reviews'] = X_train['RM_Publisher_reviews'].fillna(RM_Publisher_reviews_mean)\n",
    "\n",
    "X_train['RM_Studio'] = X_train['RM_Studio'].fillna(RM_Studio_mean)\n",
    "X_train['RM_Studio_score'] = X_train['RM_Studio_score'].fillna(RM_Studio_score_mean)\n",
    "X_train['RM_Studio_rate'] = X_train['RM_Studio_rate'].fillna(RM_Studio_rate_mean)\n",
    "X_train['RM_Studio_reviews'] = X_train['RM_Studio_reviews'].fillna(RM_Studio_reviews_mean)\n",
    "\n",
    "X_train['RM_Licence'] = X_train['RM_Licence'].fillna(RM_Licence_mean)\n",
    "X_train['RM_Licence_score'] = X_train['RM_Licence_score'].fillna(RM_Licence_score_mean)\n",
    "X_train['RM_Licence_rate'] = X_train['RM_Licence_rate'].fillna(RM_Licence_rate_mean)\n",
    "X_train['RM_Licence_reviews'] = X_train['RM_Licence_reviews'].fillna(RM_Licence_reviews_mean)"
   ]
  },
  {
   "cell_type": "markdown",
   "id": "e4eae592",
   "metadata": {},
   "source": [
    "### Application des moyennes de Rolling means sur les NaN de l'echantillon de Test"
   ]
  },
  {
   "cell_type": "code",
   "execution_count": 36,
   "id": "57572a2c",
   "metadata": {},
   "outputs": [],
   "source": [
    "X_test['RM_Publisher'] = X_test['RM_Publisher'].fillna(RM_Publisher_mean)\n",
    "X_test['RM_Publisher_score'] = X_test['RM_Publisher_score'].fillna(RM_Publisher_score_mean)\n",
    "X_test['RM_Publisher_rate'] = X_test['RM_Publisher_rate'].fillna(RM_Publisher_rate_mean)\n",
    "X_test['RM_Publisher_reviews'] = X_test['RM_Publisher_reviews'].fillna(RM_Publisher_reviews_mean)\n",
    "\n",
    "X_test['RM_Studio'] = X_test['RM_Studio'].fillna(RM_Studio_mean)\n",
    "X_test['RM_Studio_score'] = X_test['RM_Studio_score'].fillna(RM_Studio_score_mean)\n",
    "X_test['RM_Studio_rate'] = X_test['RM_Studio_rate'].fillna(RM_Studio_rate_mean)\n",
    "X_test['RM_Studio_reviews'] = X_test['RM_Studio_reviews'].fillna(RM_Studio_reviews_mean)\n",
    "\n",
    "X_test['RM_Licence'] = X_test['RM_Licence'].fillna(RM_Licence_mean)\n",
    "X_test['RM_Licence_score'] = X_test['RM_Licence_score'].fillna(RM_Licence_score_mean)\n",
    "X_test['RM_Licence_rate'] = X_test['RM_Licence_rate'].fillna(RM_Licence_rate_mean)\n",
    "X_test['RM_Licence_reviews'] = X_test['RM_Licence_reviews'].fillna(RM_Licence_reviews_mean)"
   ]
  },
  {
   "cell_type": "markdown",
   "id": "e548daee",
   "metadata": {},
   "source": [
    "### Suppression de la Date de sortie"
   ]
  },
  {
   "cell_type": "code",
   "execution_count": 38,
   "id": "8d9e1557",
   "metadata": {},
   "outputs": [],
   "source": [
    "X_train=X_train.drop(\"Date_Sortie\",axis=1)\n",
    "\n",
    "X_test=X_test.drop(\"Date_Sortie\",axis=1)"
   ]
  },
  {
   "cell_type": "markdown",
   "id": "0f8b5b98",
   "metadata": {},
   "source": [
    "### Encodage des données"
   ]
  },
  {
   "cell_type": "code",
   "execution_count": 39,
   "id": "af87f16f",
   "metadata": {},
   "outputs": [],
   "source": [
    "__encode(X_train)\n",
    "__encode(X_test)"
   ]
  },
  {
   "cell_type": "markdown",
   "id": "7527dc99",
   "metadata": {},
   "source": [
    "### Choix du modèle le plus performant"
   ]
  },
  {
   "cell_type": "code",
   "execution_count": 40,
   "id": "2297a286",
   "metadata": {},
   "outputs": [
    {
     "name": "stdout",
     "output_type": "stream",
     "text": [
      " lr score : 0.07676634286080508\n",
      " dt score : -1.8371242850441543\n",
      " lm score : 0.009193045108662146\n",
      " svr score : 0.01669102380916354\n",
      " rf score : -0.11192406364690921\n"
     ]
    }
   ],
   "source": [
    "from sklearn.linear_model import LinearRegression,Lasso\n",
    "from sklearn.tree import DecisionTreeRegressor\n",
    "from sklearn.svm import SVR\n",
    "from sklearn import linear_model\n",
    "from sklearn.ensemble import RandomForestRegressor\n",
    "\n",
    "lr=LinearRegression()\n",
    "lr.fit(X_train,y_train)\n",
    "y_pred_test=lr.predict(X_test)\n",
    "print(\" lr score :\" , lr.score(X_test,y_test))\n",
    "\n",
    "dt=DecisionTreeRegressor()\n",
    "dt.fit(X_train,y_train)\n",
    "y_pred_test=dt.predict(X_test)\n",
    "print(\" dt score :\" , dt.score(X_test,y_test))\n",
    "\n",
    "lm=Lasso(alpha=0.1)\n",
    "lm.fit(X_train,y_train)\n",
    "y_pred_test=lm.predict(X_test)\n",
    "print(\" lm score :\" , lm.score(X_test,y_test))\n",
    "\n",
    "svr=SVR()\n",
    "svr.fit(X_train,y_train)\n",
    "y_pred_test=svr.predict(X_test)\n",
    "print(\" svr score :\" , svr.score(X_test,y_test))\n",
    "\n",
    "\n",
    "\n",
    "rf=RandomForestRegressor()\n",
    "rf.fit(X_train,y_train)\n",
    "y_pred_test=rf.predict(X_test)\n",
    "print(\" rf score :\" , rf.score(X_test,y_test))\n"
   ]
  },
  {
   "cell_type": "markdown",
   "id": "35af6da6",
   "metadata": {},
   "source": [
    "Les scores obtenus par la regression ne sembles pas être concluants"
   ]
  }
 ],
 "metadata": {
  "kernelspec": {
   "display_name": "Python 3 (ipykernel)",
   "language": "python",
   "name": "python3"
  },
  "language_info": {
   "codemirror_mode": {
    "name": "ipython",
    "version": 3
   },
   "file_extension": ".py",
   "mimetype": "text/x-python",
   "name": "python",
   "nbconvert_exporter": "python",
   "pygments_lexer": "ipython3",
   "version": "3.9.7"
  }
 },
 "nbformat": 4,
 "nbformat_minor": 5
}

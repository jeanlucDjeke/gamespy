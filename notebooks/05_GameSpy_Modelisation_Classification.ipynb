{
 "cells": [
  {
   "cell_type": "code",
   "execution_count": 1,
   "id": "b077cdff",
   "metadata": {},
   "outputs": [],
   "source": [
    "import numpy as np\n",
    "import pandas as pd\n",
    "\n",
    "import warnings\n",
    "warnings.filterwarnings('ignore')"
   ]
  },
  {
   "cell_type": "code",
   "execution_count": 10,
   "id": "7e3a010d",
   "metadata": {},
   "outputs": [
    {
     "name": "stdout",
     "output_type": "stream",
     "text": [
      "<class 'pandas.core.frame.DataFrame'>\n",
      "Int64Index: 16538 entries, 0 to 16537\n",
      "Data columns (total 31 columns):\n",
      " #   Column                          Non-Null Count  Dtype  \n",
      "---  ------                          --------------  -----  \n",
      " 0   Name                            16538 non-null  object \n",
      " 1   Platform                        16538 non-null  object \n",
      " 2   Year                            16538 non-null  int64  \n",
      " 3   Genre                           16538 non-null  object \n",
      " 4   Publisher                       16538 non-null  object \n",
      " 5   Studio                          16538 non-null  object \n",
      " 6   NA_Sales                        16538 non-null  float64\n",
      " 7   EU_Sales                        16538 non-null  float64\n",
      " 8   JP_Sales                        16538 non-null  float64\n",
      " 9   Other_Sales                     16538 non-null  float64\n",
      " 10  Global_Sales                    16538 non-null  float64\n",
      " 11  GK_licence                      16538 non-null  object \n",
      " 12  Mois                            16538 non-null  int64  \n",
      " 13  Date_Sortie                     16538 non-null  object \n",
      " 14  RM_Publisher                    16516 non-null  float64\n",
      " 15  RM_Publisher_score              14347 non-null  float64\n",
      " 16  RM_Publisher_rate               14347 non-null  float64\n",
      " 17  RM_Publisher_reviews            13076 non-null  float64\n",
      " 18  RM_Studio                       16516 non-null  float64\n",
      " 19  RM_Studio_score                 14347 non-null  float64\n",
      " 20  RM_Studio_rate                  14347 non-null  float64\n",
      " 21  RM_Studio_reviews               13076 non-null  float64\n",
      " 22  RM_Licence                      16516 non-null  float64\n",
      " 23  RM_Licence_score                14347 non-null  float64\n",
      " 24  RM_Licence_rate                 14347 non-null  float64\n",
      " 25  RM_Licence_reviews              13076 non-null  float64\n",
      " 26  is_serie                        16538 non-null  int64  \n",
      " 27  is_top_serie                    16538 non-null  int64  \n",
      " 28  is_top_studio                   16538 non-null  int64  \n",
      " 29  is_e3                           16538 non-null  int64  \n",
      " 30  is_launch_plateform_associated  16538 non-null  int64  \n",
      "dtypes: float64(17), int64(7), object(7)\n",
      "memory usage: 4.0+ MB\n"
     ]
    }
   ],
   "source": [
    "df_rm = pd.read_csv('../data/04_GameSpy_FinalDataset.csv', index_col=0)\n",
    "df_rm.info()"
   ]
  },
  {
   "cell_type": "markdown",
   "id": "8723cc0e",
   "metadata": {},
   "source": [
    "# MODELISATION - CLASSIFICATION"
   ]
  },
  {
   "cell_type": "code",
   "execution_count": 3,
   "id": "c853d128",
   "metadata": {},
   "outputs": [],
   "source": [
    "from sklearn.preprocessing import StandardScaler\n",
    "from sklearn.model_selection import GridSearchCV\n",
    "from sklearn.model_selection import train_test_split\n",
    "from sklearn.model_selection import cross_val_score\n",
    "from sklearn.metrics import make_scorer\n",
    "from sklearn.neighbors import KNeighborsClassifier\n",
    "from sklearn.tree import DecisionTreeClassifier\n",
    "from sklearn.ensemble import RandomForestClassifier\n",
    "from sklearn.svm import SVC\n",
    "from sklearn.linear_model import LogisticRegression"
   ]
  },
  {
   "cell_type": "markdown",
   "id": "6067ddbb",
   "metadata": {},
   "source": [
    "## 4 catégories"
   ]
  },
  {
   "cell_type": "code",
   "execution_count": 11,
   "id": "fe047a78",
   "metadata": {},
   "outputs": [],
   "source": [
    "df_rm_tosplit = df_rm"
   ]
  },
  {
   "cell_type": "code",
   "execution_count": 12,
   "id": "fc7e3bb5",
   "metadata": {},
   "outputs": [
    {
     "name": "stdout",
     "output_type": "stream",
     "text": [
      "<class 'pandas.core.frame.DataFrame'>\n",
      "Int64Index: 16538 entries, 0 to 16537\n",
      "Data columns (total 26 columns):\n",
      " #   Column                          Non-Null Count  Dtype  \n",
      "---  ------                          --------------  -----  \n",
      " 0   Platform                        16538 non-null  float64\n",
      " 1   Year                            16538 non-null  int64  \n",
      " 2   Genre                           16538 non-null  float64\n",
      " 3   Publisher                       16538 non-null  float64\n",
      " 4   Studio                          16538 non-null  float64\n",
      " 5   GK_licence                      16538 non-null  float64\n",
      " 6   Mois                            16538 non-null  int64  \n",
      " 7   Date_Sortie                     16538 non-null  float64\n",
      " 8   RM_Publisher                    16516 non-null  float64\n",
      " 9   RM_Publisher_score              14347 non-null  float64\n",
      " 10  RM_Publisher_rate               14347 non-null  float64\n",
      " 11  RM_Publisher_reviews            13076 non-null  float64\n",
      " 12  RM_Studio                       16516 non-null  float64\n",
      " 13  RM_Studio_score                 14347 non-null  float64\n",
      " 14  RM_Studio_rate                  14347 non-null  float64\n",
      " 15  RM_Studio_reviews               13076 non-null  float64\n",
      " 16  RM_Licence                      16516 non-null  float64\n",
      " 17  RM_Licence_score                14347 non-null  float64\n",
      " 18  RM_Licence_rate                 14347 non-null  float64\n",
      " 19  RM_Licence_reviews              13076 non-null  float64\n",
      " 20  is_serie                        16538 non-null  int64  \n",
      " 21  is_top_serie                    16538 non-null  int64  \n",
      " 22  is_top_studio                   16538 non-null  int64  \n",
      " 23  is_e3                           16538 non-null  int64  \n",
      " 24  is_launch_plateform_associated  16538 non-null  int64  \n",
      " 25  Sales_cat                       16538 non-null  int64  \n",
      "dtypes: float64(18), int64(8)\n",
      "memory usage: 3.4 MB\n"
     ]
    }
   ],
   "source": [
    "#Création de 4 catégories de vente en fonction de paliers de vente spécifiques\n",
    "df_rm_tosplit['Sales_cat'] = pd.cut(df_rm_tosplit['Global_Sales'], bins=[0,0.1,0.249,1, 100000], \n",
    "       labels=[1,2,3,4])\n",
    "df_rm_tosplit['Sales_cat'] = df_rm_tosplit['Sales_cat'].astype(\"int\")\n",
    "\n",
    "#Suppression des colonnes à présent inutiles\n",
    "df_rm_tosplit = df_rm_tosplit.drop(['Name', 'NA_Sales', 'EU_Sales', 'JP_Sales', 'Other_Sales', 'Global_Sales'], axis=1)\n",
    "\n",
    "#Labelisation des variables catégorielles\n",
    "cat_cols = df_rm_tosplit.select_dtypes(include=['object']).columns.to_list()\n",
    "for col in cat_cols:\n",
    "    i = 1\n",
    "    occurences = df_rm_tosplit[col].unique()\n",
    "    for occ in occurences:\n",
    "        df_rm_tosplit.loc[df_rm_tosplit[col]==occ, col] = i\n",
    "        i+=1\n",
    "        \n",
    "df_rm_tosplit[cat_cols] = df_rm_tosplit[cat_cols].astype('float')\n",
    "df_rm_tosplit.info()"
   ]
  },
  {
   "cell_type": "code",
   "execution_count": 13,
   "id": "5319c2fb",
   "metadata": {},
   "outputs": [],
   "source": [
    "#Création d'une liste pour les moyennes mobiles des notes joueurs par publisher\n",
    "rm_publisher_score=[]\n",
    "\n",
    "#Boucle qui parcourt les dates de lancement et les moyennes mobiles des notes joueurs par publisher\n",
    "#et qui va attribuer aux moyennes mobiles vides, la moyenne des moyennes mobiles \n",
    "#des jeux avec une date antérieure au jeu en question. \n",
    "#Cela pour ne pas biaiser les chiffres avec des moyennes de jeux futurs.\n",
    "for date,rm in zip(df_rm_tosplit[\"Date_Sortie\"],df_rm_tosplit[\"RM_Publisher_score\"]):\n",
    "    if str(rm)==\"nan\":\n",
    "        rm_publisher_score.append(df_rm_tosplit[\"RM_Publisher_score\"][df_rm_tosplit[\"Date_Sortie\"]<date].mean())\n",
    "    else:\n",
    "        rm_publisher_score.append(rm)\n",
    "        \n",
    "#Même processus que précédemment sur les moyennes mobiles des notes joueurs par studio cette fois\n",
    "rm_studio_score=[]\n",
    "for date,rm in zip(df_rm_tosplit[\"Date_Sortie\"],df_rm_tosplit[\"RM_Studio_score\"]):\n",
    "    if str(rm)==\"nan\":\n",
    "        rm_studio_score.append(df_rm_tosplit[\"RM_Studio_score\"][df_rm_tosplit[\"Date_Sortie\"]<date].mean())\n",
    "    else:\n",
    "        rm_studio_score.append(rm)\n",
    "\n",
    "#Même processus que précédemment sur les moyennes mobiles des notes joueurs par licence cette fois\n",
    "rm_licence_score=[]\n",
    "for date,rm in zip(df_rm_tosplit[\"Date_Sortie\"],df_rm_tosplit[\"RM_Licence_score\"]):\n",
    "    if str(rm)==\"nan\":\n",
    "        rm_licence_score.append(df_rm_tosplit[\"RM_Licence_score\"][df_rm_tosplit[\"Date_Sortie\"]<date].mean())\n",
    "    else:\n",
    "        rm_licence_score.append(rm)\n",
    "\n",
    "#Remplacement des colonnes moyennes mobiles sur les notes joueurs par les listes créées traitant les valeurs vides \n",
    "df_rm_tosplit[\"RM_Publisher_score\"]=rm_publisher_score\n",
    "df_rm_tosplit[\"RM_Studio_score\"]=rm_studio_score\n",
    "df_rm_tosplit[\"RM_Licence_score\"]=rm_licence_score"
   ]
  },
  {
   "cell_type": "code",
   "execution_count": 14,
   "id": "1f9a2102",
   "metadata": {},
   "outputs": [],
   "source": [
    "#Même processus que précédemment sur les moyennes mobiles des notes jounalistes cette fois par publisher\n",
    "rm_publisher_rate=[]\n",
    "for date,rm in zip(df_rm_tosplit[\"Date_Sortie\"],df_rm_tosplit[\"RM_Publisher_rate\"]):\n",
    "    if str(rm)==\"nan\":\n",
    "        rm_publisher_rate.append(df_rm_tosplit[\"RM_Publisher_rate\"][df_rm_tosplit[\"Date_Sortie\"]<date].mean())\n",
    "    else:\n",
    "        rm_publisher_rate.append(rm)\n",
    "        \n",
    "#Même processus que précédemment sur les moyennes mobiles des notes jounalistes cette fois par studio\n",
    "rm_studio_rate=[]\n",
    "for date,rm in zip(df_rm_tosplit[\"Date_Sortie\"],df_rm_tosplit[\"RM_Studio_rate\"]):\n",
    "    if str(rm)==\"nan\":\n",
    "        rm_studio_rate.append(df_rm_tosplit[\"RM_Studio_rate\"][df_rm_tosplit[\"Date_Sortie\"]<date].mean())\n",
    "    else:\n",
    "        rm_studio_rate.append(rm)\n",
    "\n",
    "#Même processus que précédemment sur les moyennes mobiles des notes jounalistes cette fois par licence\n",
    "rm_licence_rate=[]\n",
    "for date,rm in zip(df_rm_tosplit[\"Date_Sortie\"],df_rm_tosplit[\"RM_Licence_rate\"]):\n",
    "    if str(rm)==\"nan\":\n",
    "        rm_licence_rate.append(df_rm_tosplit[\"RM_Licence_rate\"][df_rm_tosplit[\"Date_Sortie\"]<date].mean())\n",
    "    else:\n",
    "        rm_licence_rate.append(rm)\n",
    "\n",
    "#Remplacement des colonnes moyennes mobiles sur les notes journalistes par les listes créées traitant les valeurs vides \n",
    "df_rm_tosplit[\"RM_Publisher_rate\"]=rm_publisher_rate\n",
    "df_rm_tosplit[\"RM_Studio_rate\"]=rm_studio_rate\n",
    "df_rm_tosplit[\"RM_Licence_rate\"]=rm_licence_rate"
   ]
  },
  {
   "cell_type": "code",
   "execution_count": 15,
   "id": "5a0f36d4",
   "metadata": {},
   "outputs": [],
   "source": [
    "#Même processus que précédemment sur les moyennes mobiles du nombre d'avis cette fois par publisher\n",
    "rm_publisher_review=[]\n",
    "for date,rm in zip(df_rm_tosplit[\"Date_Sortie\"],df_rm_tosplit[\"RM_Publisher_reviews\"]):\n",
    "    if str(rm)==\"nan\":\n",
    "        rm_publisher_review.append(df_rm_tosplit[\"RM_Publisher_reviews\"][df_rm_tosplit[\"Date_Sortie\"]<date].mean())\n",
    "    else:\n",
    "        rm_publisher_review.append(rm)\n",
    "        \n",
    "#Même processus que précédemment sur les moyennes mobiles du nombre d'avis cette fois par studio\n",
    "rm_studio_review=[]\n",
    "for date,rm in zip(df_rm_tosplit[\"Date_Sortie\"],df_rm_tosplit[\"RM_Studio_reviews\"]):\n",
    "    if str(rm)==\"nan\":\n",
    "        rm_studio_review.append(df_rm_tosplit[\"RM_Studio_reviews\"][df_rm_tosplit[\"Date_Sortie\"]<date].mean())\n",
    "    else:\n",
    "        rm_studio_review.append(rm)\n",
    "\n",
    "#Même processus que précédemment sur les moyennes mobiles du nombre d'avis cette fois par licence\n",
    "rm_licence_review=[]\n",
    "for date,rm in zip(df_rm_tosplit[\"Date_Sortie\"],df_rm_tosplit[\"RM_Licence_reviews\"]):\n",
    "    if str(rm)==\"nan\":\n",
    "        rm_licence_review.append(df_rm_tosplit[\"RM_Licence_reviews\"][df_rm_tosplit[\"Date_Sortie\"]<date].mean())\n",
    "    else:\n",
    "        rm_licence_review.append(rm)\n",
    "\n",
    "#Remplacement des colonnes moyennes mobiles sur le nombre d'avis par les listes créées traitant les valeurs vides \n",
    "df_rm_tosplit[\"RM_Publisher_reviews\"]=rm_publisher_review\n",
    "df_rm_tosplit[\"RM_Studio_reviews\"]=rm_studio_review\n",
    "df_rm_tosplit[\"RM_Licence_reviews\"]=rm_licence_review"
   ]
  },
  {
   "cell_type": "code",
   "execution_count": 16,
   "id": "a825a751",
   "metadata": {},
   "outputs": [
    {
     "data": {
      "text/plain": [
       "Platform                           0\n",
       "Year                               0\n",
       "Genre                              0\n",
       "Publisher                          0\n",
       "Studio                             0\n",
       "GK_licence                         0\n",
       "Mois                               0\n",
       "Date_Sortie                        0\n",
       "RM_Publisher                      22\n",
       "RM_Publisher_score                 1\n",
       "RM_Publisher_rate                  1\n",
       "RM_Publisher_reviews               8\n",
       "RM_Studio                         22\n",
       "RM_Studio_score                    1\n",
       "RM_Studio_rate                     1\n",
       "RM_Studio_reviews                  8\n",
       "RM_Licence                        22\n",
       "RM_Licence_score                   1\n",
       "RM_Licence_rate                    1\n",
       "RM_Licence_reviews                 8\n",
       "is_serie                           0\n",
       "is_top_serie                       0\n",
       "is_top_studio                      0\n",
       "is_e3                              0\n",
       "is_launch_plateform_associated     0\n",
       "Sales_cat                          0\n",
       "dtype: int64"
      ]
     },
     "execution_count": 16,
     "metadata": {},
     "output_type": "execute_result"
    }
   ],
   "source": [
    "#Vérification du nombre de NaNs restants\n",
    "df_rm_tosplit.isna().sum()"
   ]
  },
  {
   "cell_type": "code",
   "execution_count": 17,
   "id": "91a999df",
   "metadata": {},
   "outputs": [],
   "source": [
    "#Suppression des derniers NaNs\n",
    "df_rm_tosplit=df_rm_tosplit.dropna()"
   ]
  },
  {
   "cell_type": "code",
   "execution_count": 18,
   "id": "1a13441f",
   "metadata": {},
   "outputs": [
    {
     "data": {
      "text/plain": [
       "Platform                          0\n",
       "Year                              0\n",
       "Genre                             0\n",
       "Publisher                         0\n",
       "Studio                            0\n",
       "GK_licence                        0\n",
       "Mois                              0\n",
       "Date_Sortie                       0\n",
       "RM_Publisher                      0\n",
       "RM_Publisher_score                0\n",
       "RM_Publisher_rate                 0\n",
       "RM_Publisher_reviews              0\n",
       "RM_Studio                         0\n",
       "RM_Studio_score                   0\n",
       "RM_Studio_rate                    0\n",
       "RM_Studio_reviews                 0\n",
       "RM_Licence                        0\n",
       "RM_Licence_score                  0\n",
       "RM_Licence_rate                   0\n",
       "RM_Licence_reviews                0\n",
       "is_serie                          0\n",
       "is_top_serie                      0\n",
       "is_top_studio                     0\n",
       "is_e3                             0\n",
       "is_launch_plateform_associated    0\n",
       "Sales_cat                         0\n",
       "dtype: int64"
      ]
     },
     "execution_count": 18,
     "metadata": {},
     "output_type": "execute_result"
    }
   ],
   "source": [
    "#Vérification des NaNs\n",
    "df_rm_tosplit.isna().sum()"
   ]
  },
  {
   "cell_type": "code",
   "execution_count": 19,
   "id": "0cc7a284",
   "metadata": {},
   "outputs": [],
   "source": [
    "#Suppression de la colonne avec les dates de lancement des jeux, pas utile pour la suite\n",
    "df_rm_tosplit=df_rm_tosplit.drop(\"Date_Sortie\",axis=1)"
   ]
  },
  {
   "cell_type": "code",
   "execution_count": 20,
   "id": "888da8e6",
   "metadata": {},
   "outputs": [],
   "source": [
    "#Split du dataset en groupe d'entrainement et groupe de test\n",
    "target=df_rm_tosplit[\"Sales_cat\"]\n",
    "data=df_rm_tosplit.drop(\"Sales_cat\",axis=1)\n",
    "\n",
    "X_train,X_test,y_train,y_test=train_test_split(data,target,test_size=0.2)"
   ]
  },
  {
   "cell_type": "code",
   "execution_count": 21,
   "id": "c853e7af",
   "metadata": {},
   "outputs": [
    {
     "name": "stdout",
     "output_type": "stream",
     "text": [
      "<class 'pandas.core.frame.DataFrame'>\n",
      "Int64Index: 3302 entries, 14068 to 11800\n",
      "Data columns (total 24 columns):\n",
      " #   Column                          Non-Null Count  Dtype  \n",
      "---  ------                          --------------  -----  \n",
      " 0   Platform                        3302 non-null   float64\n",
      " 1   Year                            3302 non-null   int64  \n",
      " 2   Genre                           3302 non-null   float64\n",
      " 3   Publisher                       3302 non-null   float64\n",
      " 4   Studio                          3302 non-null   float64\n",
      " 5   GK_licence                      3302 non-null   float64\n",
      " 6   Mois                            3302 non-null   int64  \n",
      " 7   RM_Publisher                    3302 non-null   float64\n",
      " 8   RM_Publisher_score              3302 non-null   float64\n",
      " 9   RM_Publisher_rate               3302 non-null   float64\n",
      " 10  RM_Publisher_reviews            3302 non-null   float64\n",
      " 11  RM_Studio                       3302 non-null   float64\n",
      " 12  RM_Studio_score                 3302 non-null   float64\n",
      " 13  RM_Studio_rate                  3302 non-null   float64\n",
      " 14  RM_Studio_reviews               3302 non-null   float64\n",
      " 15  RM_Licence                      3302 non-null   float64\n",
      " 16  RM_Licence_score                3302 non-null   float64\n",
      " 17  RM_Licence_rate                 3302 non-null   float64\n",
      " 18  RM_Licence_reviews              3302 non-null   float64\n",
      " 19  is_serie                        3302 non-null   int64  \n",
      " 20  is_top_serie                    3302 non-null   int64  \n",
      " 21  is_top_studio                   3302 non-null   int64  \n",
      " 22  is_e3                           3302 non-null   int64  \n",
      " 23  is_launch_plateform_associated  3302 non-null   int64  \n",
      "dtypes: float64(17), int64(7)\n",
      "memory usage: 644.9 KB\n"
     ]
    }
   ],
   "source": [
    "#Vérification du format des features\n",
    "X_test.info()"
   ]
  },
  {
   "cell_type": "code",
   "execution_count": 22,
   "id": "346aae2e",
   "metadata": {},
   "outputs": [
    {
     "data": {
      "text/plain": [
       "1    4886\n",
       "3    3765\n",
       "2    2897\n",
       "4    1658\n",
       "Name: Sales_cat, dtype: int64"
      ]
     },
     "execution_count": 22,
     "metadata": {},
     "output_type": "execute_result"
    }
   ],
   "source": [
    "#Affichage de la répartition du nombre de jeux par catégorie de vente dans le groupe d'entrainement\n",
    "y_train.value_counts()"
   ]
  },
  {
   "cell_type": "code",
   "execution_count": 23,
   "id": "a4af5c01",
   "metadata": {},
   "outputs": [],
   "source": [
    "#Fonction qui prend en entrée les valeurs réelles et les valeurs prédites et ramène la différence totale \n",
    "#entre ces valeurs à la pire prédiction qu'il soit, c'est à dire une erreur à 3 catégories de différence\n",
    "#Cette fonction nous permet de créer notre propre score d'évaluation. Il doit être le plus proche de 0 possible.\n",
    "def compute_score(y,pred):\n",
    "    return np.abs(pred - y).sum()/(3*y.size)"
   ]
  },
  {
   "cell_type": "code",
   "execution_count": 24,
   "id": "db970eef",
   "metadata": {},
   "outputs": [
    {
     "name": "stdout",
     "output_type": "stream",
     "text": [
      " KNN compute score : 0.17373309105592571\n",
      " KNN score : 0.6093276801938219\n",
      " RF compute score 0.11205330102967898\n",
      " RF score : 0.7365233192004845\n",
      " DT compute score 0.15172622652937615\n",
      " DT score : 0.6547546941247728\n",
      " LG compute score 0.17888148596810013\n",
      " LG score : 0.5663234403391884\n"
     ]
    }
   ],
   "source": [
    "#Instanciation d'un classificateur sur le modèle des KNN, application sur le modèle d'entrainement et score sur les prédictions\n",
    "knn=KNeighborsClassifier()\n",
    "knn.fit(X_train,y_train)\n",
    "y_pred_test=knn.predict(X_test)\n",
    "metric_eval_knn=compute_score(y_test,y_pred_test)\n",
    "print(\" KNN compute score :\" , metric_eval_knn)\n",
    "print(\" KNN score :\" , knn.score(X_test,y_test))\n",
    "\n",
    "#Instanciation d'un classificateur sur le modèle Random Forest, application sur le modèle d'entrainement et score sur les prédictions\n",
    "rfc=RandomForestClassifier()\n",
    "rfc.fit(X_train,y_train)\n",
    "y_pred_test=rfc.predict(X_test)\n",
    "metric_eval_rfc=compute_score(y_test,y_pred_test)\n",
    "print(\" RF compute score\" , metric_eval_rfc)\n",
    "print(\" RF score :\" , rfc.score(X_test,y_test))\n",
    "\n",
    "#Instanciation d'un classificateur sur le modèle de l'arbre de décision, application sur le modèle d'entrainement et score sur les prédictions\n",
    "dt=DecisionTreeClassifier()\n",
    "dt.fit(X_train,y_train)\n",
    "y_pred_test=dt.predict(X_test)\n",
    "metric_eval_dt=compute_score(y_test,y_pred_test)\n",
    "print(\" DT compute score\" , metric_eval_dt)\n",
    "print(\" DT score :\" , dt.score(X_test,y_test))\n",
    "\n",
    "#Instanciation d'un classificateur sur le modèle de régression logistique, application sur le modèle d'entrainement et score sur les prédictions\n",
    "lg=LogisticRegression(max_iter=1000,class_weight=\"balanced\")\n",
    "lg.fit(X_train,y_train)\n",
    "y_pred_test=lg.predict(X_test)\n",
    "metric_eval_lg=compute_score(y_test,y_pred_test)\n",
    "print(\" LG compute score\" , metric_eval_lg)\n",
    "print(\" LG score :\" , lg.score(X_test,y_test))"
   ]
  },
  {
   "cell_type": "markdown",
   "id": "217559c7",
   "metadata": {},
   "source": [
    "A la vue des scores obtenue, le modèle le plus performant est le Random Forest"
   ]
  },
  {
   "cell_type": "code",
   "execution_count": 99,
   "id": "63ce3bd2",
   "metadata": {},
   "outputs": [
    {
     "data": {
      "text/plain": [
       "{'criterion': 'entropy', 'max_depth': 150, 'max_features': 'log2'}"
      ]
     },
     "execution_count": 99,
     "metadata": {},
     "output_type": "execute_result"
    }
   ],
   "source": [
    "#Application d'un GridSearch sur le modèle Random Forest pour trouver les meilleurs hyperparamètres\n",
    "param_rf=[{'criterion': ['gini', 'entropy'],\n",
    "           'max_depth': [4,5,6,7,8,9,10,11,12,15,20,30,40,50,70,90,120,150],\n",
    "           'max_features': ['auto', 'sqrt', 'log2']}]\n",
    "\n",
    "gridcv=GridSearchCV(rfc,param_grid=param_rf,cv=3,scoring=make_scorer(compute_score,greater_is_better=False))\n",
    "gridcv.fit(X_train,y_train)\n",
    "\n",
    "gridcv.best_params_\n",
    "\n"
   ]
  },
  {
   "cell_type": "code",
   "execution_count": 100,
   "id": "152df030",
   "metadata": {},
   "outputs": [],
   "source": [
    "#Réapplication du modèle avec les meilleurs hyperparmètres identifiés\n",
    "rfc_grid = RandomForestClassifier(\n",
    "    criterion=gridcv.best_params_['criterion'],\n",
    "    max_depth=gridcv.best_params_['max_depth'],\n",
    "    max_features=gridcv.best_params_['max_features'])\n",
    "\n",
    "rfc_grid.fit(X_train, y_train)\n",
    "y_pred = rfc_grid.predict(X_test)"
   ]
  },
  {
   "cell_type": "code",
   "execution_count": 101,
   "id": "9907c56f",
   "metadata": {},
   "outputs": [
    {
     "name": "stdout",
     "output_type": "stream",
     "text": [
      " RF compute score 0.11777172267635483\n",
      " RF_grid score : 0.7308507417499243\n"
     ]
    }
   ],
   "source": [
    "#Evaluation du modèle avec notre score personnalisé et le score d'accuracy\n",
    "metric_eval_rfc_grid = compute_score(y_test,y_pred)\n",
    "print(\" RF compute score\" , metric_eval_rfc_grid)\n",
    "print(\" RF_grid score :\" , rfc_grid.score(X_test,y_test))"
   ]
  },
  {
   "cell_type": "code",
   "execution_count": 102,
   "id": "f2685b6f",
   "metadata": {},
   "outputs": [
    {
     "data": {
      "text/html": [
       "<div>\n",
       "<style scoped>\n",
       "    .dataframe tbody tr th:only-of-type {\n",
       "        vertical-align: middle;\n",
       "    }\n",
       "\n",
       "    .dataframe tbody tr th {\n",
       "        vertical-align: top;\n",
       "    }\n",
       "\n",
       "    .dataframe thead th {\n",
       "        text-align: right;\n",
       "    }\n",
       "</style>\n",
       "<table border=\"1\" class=\"dataframe\">\n",
       "  <thead>\n",
       "    <tr style=\"text-align: right;\">\n",
       "      <th>Classe prédite</th>\n",
       "      <th>1</th>\n",
       "      <th>2</th>\n",
       "      <th>3</th>\n",
       "      <th>4</th>\n",
       "    </tr>\n",
       "    <tr>\n",
       "      <th>Classe réelle</th>\n",
       "      <th></th>\n",
       "      <th></th>\n",
       "      <th></th>\n",
       "      <th></th>\n",
       "    </tr>\n",
       "  </thead>\n",
       "  <tbody>\n",
       "    <tr>\n",
       "      <th>1</th>\n",
       "      <td>1009</td>\n",
       "      <td>125</td>\n",
       "      <td>123</td>\n",
       "      <td>31</td>\n",
       "    </tr>\n",
       "    <tr>\n",
       "      <th>2</th>\n",
       "      <td>91</td>\n",
       "      <td>406</td>\n",
       "      <td>184</td>\n",
       "      <td>19</td>\n",
       "    </tr>\n",
       "    <tr>\n",
       "      <th>3</th>\n",
       "      <td>40</td>\n",
       "      <td>48</td>\n",
       "      <td>740</td>\n",
       "      <td>76</td>\n",
       "    </tr>\n",
       "    <tr>\n",
       "      <th>4</th>\n",
       "      <td>13</td>\n",
       "      <td>8</td>\n",
       "      <td>131</td>\n",
       "      <td>259</td>\n",
       "    </tr>\n",
       "  </tbody>\n",
       "</table>\n",
       "</div>"
      ],
      "text/plain": [
       "Classe prédite     1    2    3    4\n",
       "Classe réelle                      \n",
       "1               1009  125  123   31\n",
       "2                 91  406  184   19\n",
       "3                 40   48  740   76\n",
       "4                 13    8  131  259"
      ]
     },
     "execution_count": 102,
     "metadata": {},
     "output_type": "execute_result"
    }
   ],
   "source": [
    "#Affichage de la matrice de confusion\n",
    "cm = pd.crosstab(y_test, y_pred, rownames=['Classe réelle'], colnames=['Classe prédite'])\n",
    "cm"
   ]
  },
  {
   "cell_type": "code",
   "execution_count": 103,
   "id": "8f7ef6ab",
   "metadata": {},
   "outputs": [
    {
     "name": "stdout",
     "output_type": "stream",
     "text": [
      "              precision    recall  f1-score   support\n",
      "\n",
      "           1       0.88      0.78      0.83      1288\n",
      "           2       0.69      0.58      0.63       700\n",
      "           3       0.63      0.82      0.71       904\n",
      "           4       0.67      0.63      0.65       411\n",
      "\n",
      "    accuracy                           0.73      3303\n",
      "   macro avg       0.72      0.70      0.70      3303\n",
      "weighted avg       0.74      0.73      0.73      3303\n",
      "\n"
     ]
    }
   ],
   "source": [
    "#Affichage du rapport de classification\n",
    "from sklearn.metrics import classification_report\n",
    "print(classification_report(y_test, y_pred))"
   ]
  },
  {
   "cell_type": "code",
   "execution_count": 104,
   "id": "94d00005",
   "metadata": {},
   "outputs": [
    {
     "data": {
      "image/png": "[encoded data removed]",
      "text/plain": [
       "<Figure size 432x288 with 1 Axes>"
      ]
     },
     "metadata": {
      "needs_background": "light"
     },
     "output_type": "display_data"
    }
   ],
   "source": [
    "#Affichage des features ayant le plus influcées le modèle\n",
    "import matplotlib.pyplot as plt\n",
    "plt.bar(X_train.columns, rfc_grid.feature_importances_)\n",
    "plt.xticks(rotation=90)\n",
    "plt.xlabel(\"Features\")\n",
    "plt.ylabel(\"Score\")\n",
    "plt.title(\"Features Importances\");"
   ]
  },
  {
   "cell_type": "markdown",
   "id": "09b95fdd",
   "metadata": {},
   "source": [
    "# 6 catégories\n",
    "Le même code a été appliqué mais sur 6 catégories au lieu de 4"
   ]
  },
  {
   "cell_type": "code",
   "execution_count": 140,
   "id": "3842e469",
   "metadata": {},
   "outputs": [],
   "source": [
    "df_rm_tosplit2 = df_rm"
   ]
  },
  {
   "cell_type": "code",
   "execution_count": 141,
   "id": "76f1f695",
   "metadata": {},
   "outputs": [
    {
     "name": "stdout",
     "output_type": "stream",
     "text": [
      "<class 'pandas.core.frame.DataFrame'>\n",
      "Int64Index: 16538 entries, 0 to 16537\n",
      "Data columns (total 26 columns):\n",
      " #   Column                          Non-Null Count  Dtype         \n",
      "---  ------                          --------------  -----         \n",
      " 0   Platform                        16538 non-null  float64       \n",
      " 1   Year                            16538 non-null  float64       \n",
      " 2   Genre                           16538 non-null  float64       \n",
      " 3   Publisher                       16538 non-null  float64       \n",
      " 4   Studio                          16538 non-null  float64       \n",
      " 5   GK_licence                      16538 non-null  float64       \n",
      " 6   Mois                            16538 non-null  float64       \n",
      " 7   Date_Sortie                     16538 non-null  datetime64[ns]\n",
      " 8   RM_Publisher                    16516 non-null  float64       \n",
      " 9   RM_Publisher_score              14347 non-null  float64       \n",
      " 10  RM_Publisher_rate               14347 non-null  float64       \n",
      " 11  RM_Publisher_reviews            13076 non-null  float64       \n",
      " 12  RM_Studio                       16516 non-null  float64       \n",
      " 13  RM_Studio_score                 14347 non-null  float64       \n",
      " 14  RM_Studio_rate                  14347 non-null  float64       \n",
      " 15  RM_Studio_reviews               13076 non-null  float64       \n",
      " 16  RM_Licence                      16516 non-null  float64       \n",
      " 17  RM_Licence_score                14347 non-null  float64       \n",
      " 18  RM_Licence_rate                 14347 non-null  float64       \n",
      " 19  RM_Licence_reviews              13076 non-null  float64       \n",
      " 20  is_serie                        16538 non-null  int64         \n",
      " 21  is_top_serie                    16538 non-null  int64         \n",
      " 22  is_top_studio                   16538 non-null  int64         \n",
      " 23  is_e3                           16538 non-null  int64         \n",
      " 24  is_launch_plateform_associated  16538 non-null  int64         \n",
      " 25  Sales_cat                       16538 non-null  int64         \n",
      "dtypes: datetime64[ns](1), float64(19), int64(6)\n",
      "memory usage: 3.4 MB\n"
     ]
    }
   ],
   "source": [
    "#Création des 6 catégories de vente, suppression des variables inutiles et labélisation des variables catégorielles\n",
    "df_rm_tosplit2['Sales_cat'] = pd.cut(df_rm_tosplit2['Global_Sales'], bins=[0,0.1,0.249,0.499, 0.999, 5, 100000], \n",
    "       labels=[1,2,3,4,5,6])\n",
    "df_rm_tosplit2['Sales_cat'] = df_rm_tosplit2['Sales_cat'].astype(\"int\")\n",
    "df_rm_tosplit2 = df_rm_tosplit2.drop(['Name', 'NA_Sales', 'EU_Sales', 'JP_Sales', 'Other_Sales', 'Global_Sales'], axis=1)\n",
    "\n",
    "cat_cols = df_rm_tosplit2.select_dtypes(include=['object']).columns.to_list()\n",
    "for col in cat_cols:\n",
    "    i = 1\n",
    "    occurences = df_rm_tosplit2[col].unique()\n",
    "    for occ in occurences:\n",
    "        df_rm_tosplit2.loc[df_rm_tosplit2[col]==occ, col] = i\n",
    "        i+=1\n",
    "        \n",
    "df_rm_tosplit2[cat_cols] = df_rm_tosplit2[cat_cols].astype('float')\n",
    "df_rm_tosplit2.info()"
   ]
  },
  {
   "cell_type": "code",
   "execution_count": 142,
   "id": "150ae0ad",
   "metadata": {},
   "outputs": [],
   "source": [
    "#Gestion des NaNs sur les moyennes mobiles des notes joueurs par la moyenne des moyennes mobiles antérieures\n",
    "rm_publisher_score=[]\n",
    "for date,rm in zip(df_rm_tosplit2[\"Date_Sortie\"],df_rm_tosplit2[\"RM_Publisher_score\"]):\n",
    "    if str(rm)==\"nan\":\n",
    "        rm_publisher_score.append(df_rm_tosplit2[\"RM_Publisher_score\"][df_rm_tosplit2[\"Date_Sortie\"]<date].mean())\n",
    "    else:\n",
    "        rm_publisher_score.append(rm)\n",
    "        \n",
    "\n",
    "rm_studio_score=[]\n",
    "for date,rm in zip(df_rm_tosplit2[\"Date_Sortie\"],df_rm_tosplit2[\"RM_Studio_score\"]):\n",
    "    if str(rm)==\"nan\":\n",
    "        rm_studio_score.append(df_rm_tosplit2[\"RM_Studio_score\"][df_rm_tosplit2[\"Date_Sortie\"]<date].mean())\n",
    "    else:\n",
    "        rm_studio_score.append(rm)\n",
    "        \n",
    "rm_licence_score=[]\n",
    "for date,rm in zip(df_rm_tosplit2[\"Date_Sortie\"],df_rm_tosplit2[\"RM_Licence_score\"]):\n",
    "    if str(rm)==\"nan\":\n",
    "        rm_licence_score.append(df_rm_tosplit2[\"RM_Licence_score\"][df_rm_tosplit2[\"Date_Sortie\"]<date].mean())\n",
    "    else:\n",
    "        rm_licence_score.append(rm)\n",
    "        \n",
    "df_rm_tosplit2[\"RM_Publisher_score\"]=rm_publisher_score\n",
    "df_rm_tosplit2[\"RM_Studio_score\"]=rm_studio_score\n",
    "df_rm_tosplit2[\"RM_Licence_score\"]=rm_licence_score"
   ]
  },
  {
   "cell_type": "code",
   "execution_count": 143,
   "id": "3bf393b9",
   "metadata": {},
   "outputs": [],
   "source": [
    "#Gestion des NaNs sur les moyennes mobiles des notes journalistes par la moyenne des moyennes mobiles antérieures\n",
    "rm_publisher_rate=[]\n",
    "for date,rm in zip(df_rm_tosplit2[\"Date_Sortie\"],df_rm_tosplit2[\"RM_Publisher_rate\"]):\n",
    "    if str(rm)==\"nan\":\n",
    "        rm_publisher_rate.append(df_rm_tosplit2[\"RM_Publisher_rate\"][df_rm_tosplit2[\"Date_Sortie\"]<date].mean())\n",
    "    else:\n",
    "        rm_publisher_rate.append(rm)\n",
    "        \n",
    "\n",
    "rm_studio_rate=[]\n",
    "for date,rm in zip(df_rm_tosplit2[\"Date_Sortie\"],df_rm_tosplit2[\"RM_Studio_rate\"]):\n",
    "    if str(rm)==\"nan\":\n",
    "        rm_studio_rate.append(df_rm_tosplit2[\"RM_Studio_rate\"][df_rm_tosplit2[\"Date_Sortie\"]<date].mean())\n",
    "    else:\n",
    "        rm_studio_rate.append(rm)\n",
    "        \n",
    "rm_licence_rate=[]\n",
    "for date,rm in zip(df_rm_tosplit2[\"Date_Sortie\"],df_rm_tosplit2[\"RM_Licence_rate\"]):\n",
    "    if str(rm)==\"nan\":\n",
    "        rm_licence_rate.append(df_rm_tosplit2[\"RM_Licence_rate\"][df_rm_tosplit2[\"Date_Sortie\"]<date].mean())\n",
    "    else:\n",
    "        rm_licence_rate.append(rm)\n",
    "        \n",
    "df_rm_tosplit2[\"RM_Publisher_rate\"]=rm_publisher_rate\n",
    "df_rm_tosplit2[\"RM_Studio_rate\"]=rm_studio_rate\n",
    "df_rm_tosplit2[\"RM_Licence_rate\"]=rm_licence_rate"
   ]
  },
  {
   "cell_type": "code",
   "execution_count": 144,
   "id": "54cef0db",
   "metadata": {},
   "outputs": [],
   "source": [
    "#Gestion des NaNs sur les moyennes mobiles du nombre d'avis par la moyenne des moyennes mobiles antérieures\n",
    "rm_publisher_review=[]\n",
    "for date,rm in zip(df_rm_tosplit2[\"Date_Sortie\"],df_rm_tosplit2[\"RM_Publisher_reviews\"]):\n",
    "    if str(rm)==\"nan\":\n",
    "        rm_publisher_review.append(df_rm_tosplit2[\"RM_Publisher_reviews\"][df_rm_tosplit2[\"Date_Sortie\"]<date].mean())\n",
    "    else:\n",
    "        rm_publisher_review.append(rm)\n",
    "        \n",
    "\n",
    "rm_studio_review=[]\n",
    "for date,rm in zip(df_rm_tosplit2[\"Date_Sortie\"],df_rm_tosplit2[\"RM_Studio_reviews\"]):\n",
    "    if str(rm)==\"nan\":\n",
    "        rm_studio_review.append(df_rm_tosplit2[\"RM_Studio_reviews\"][df_rm_tosplit2[\"Date_Sortie\"]<date].mean())\n",
    "    else:\n",
    "        rm_studio_review.append(rm)\n",
    "        \n",
    "rm_licence_review=[]\n",
    "for date,rm in zip(df_rm_tosplit2[\"Date_Sortie\"],df_rm_tosplit2[\"RM_Licence_reviews\"]):\n",
    "    if str(rm)==\"nan\":\n",
    "        rm_licence_review.append(df_rm_tosplit2[\"RM_Licence_reviews\"][df_rm_tosplit2[\"Date_Sortie\"]<date].mean())\n",
    "    else:\n",
    "        rm_licence_review.append(rm)\n",
    "        \n",
    "df_rm_tosplit2[\"RM_Publisher_reviews\"]=rm_publisher_review\n",
    "df_rm_tosplit2[\"RM_Studio_reviews\"]=rm_studio_review\n",
    "df_rm_tosplit2[\"RM_Licence_reviews\"]=rm_licence_review"
   ]
  },
  {
   "cell_type": "code",
   "execution_count": 145,
   "id": "0dc7aee7",
   "metadata": {},
   "outputs": [
    {
     "data": {
      "text/plain": [
       "Platform                           0\n",
       "Year                               0\n",
       "Genre                              0\n",
       "Publisher                          0\n",
       "Studio                             0\n",
       "GK_licence                         0\n",
       "Mois                               0\n",
       "Date_Sortie                        0\n",
       "RM_Publisher                      22\n",
       "RM_Publisher_score                 5\n",
       "RM_Publisher_rate                  5\n",
       "RM_Publisher_reviews               5\n",
       "RM_Studio                         22\n",
       "RM_Studio_score                    5\n",
       "RM_Studio_rate                     5\n",
       "RM_Studio_reviews                  5\n",
       "RM_Licence                        22\n",
       "RM_Licence_score                   5\n",
       "RM_Licence_rate                    5\n",
       "RM_Licence_reviews                 5\n",
       "is_serie                           0\n",
       "is_top_serie                       0\n",
       "is_top_studio                      0\n",
       "is_e3                              0\n",
       "is_launch_plateform_associated     0\n",
       "Sales_cat                          0\n",
       "dtype: int64"
      ]
     },
     "execution_count": 145,
     "metadata": {},
     "output_type": "execute_result"
    }
   ],
   "source": [
    "#Vérification des NaNs\n",
    "df_rm_tosplit2.isna().sum()"
   ]
  },
  {
   "cell_type": "code",
   "execution_count": 146,
   "id": "ee1a2504",
   "metadata": {},
   "outputs": [],
   "source": [
    "#Suppression des NaNs restants\n",
    "df_rm_tosplit2=df_rm_tosplit2.dropna()"
   ]
  },
  {
   "cell_type": "code",
   "execution_count": 147,
   "id": "ea5c1d43",
   "metadata": {},
   "outputs": [
    {
     "data": {
      "text/plain": [
       "Platform                          0\n",
       "Year                              0\n",
       "Genre                             0\n",
       "Publisher                         0\n",
       "Studio                            0\n",
       "GK_licence                        0\n",
       "Mois                              0\n",
       "Date_Sortie                       0\n",
       "RM_Publisher                      0\n",
       "RM_Publisher_score                0\n",
       "RM_Publisher_rate                 0\n",
       "RM_Publisher_reviews              0\n",
       "RM_Studio                         0\n",
       "RM_Studio_score                   0\n",
       "RM_Studio_rate                    0\n",
       "RM_Studio_reviews                 0\n",
       "RM_Licence                        0\n",
       "RM_Licence_score                  0\n",
       "RM_Licence_rate                   0\n",
       "RM_Licence_reviews                0\n",
       "is_serie                          0\n",
       "is_top_serie                      0\n",
       "is_top_studio                     0\n",
       "is_e3                             0\n",
       "is_launch_plateform_associated    0\n",
       "Sales_cat                         0\n",
       "dtype: int64"
      ]
     },
     "execution_count": 147,
     "metadata": {},
     "output_type": "execute_result"
    }
   ],
   "source": [
    "#Vérification des NaNs\n",
    "df_rm_tosplit2.isna().sum()"
   ]
  },
  {
   "cell_type": "code",
   "execution_count": 148,
   "id": "8a0fa386",
   "metadata": {},
   "outputs": [],
   "source": [
    "#Suppression de la date de lancement des jeux\n",
    "df_rm_tosplit2=df_rm_tosplit2.drop(\"Date_Sortie\",axis=1)"
   ]
  },
  {
   "cell_type": "code",
   "execution_count": 150,
   "id": "a983a25a",
   "metadata": {},
   "outputs": [],
   "source": [
    "#Split du dataset en groupe d'entraitement et groupe de test\n",
    "target=df_rm_tosplit2[\"Sales_cat\"]\n",
    "data=df_rm_tosplit2.drop(\"Sales_cat\",axis=1)\n",
    "\n",
    "X_train,X_test,y_train,y_test=train_test_split(data,target,test_size=0.2)"
   ]
  },
  {
   "cell_type": "code",
   "execution_count": 151,
   "id": "34a4a574",
   "metadata": {},
   "outputs": [
    {
     "data": {
      "text/plain": [
       "1    4901\n",
       "2    2870\n",
       "3    2211\n",
       "4    1544\n",
       "5    1516\n",
       "6     166\n",
       "Name: Sales_cat, dtype: int64"
      ]
     },
     "execution_count": 151,
     "metadata": {},
     "output_type": "execute_result"
    }
   ],
   "source": [
    "#Affichage du nombre de jeux par catégorie dans le groupe d'entrainement\n",
    "y_train.value_counts()"
   ]
  },
  {
   "cell_type": "code",
   "execution_count": 153,
   "id": "81355e5a",
   "metadata": {},
   "outputs": [
    {
     "name": "stdout",
     "output_type": "stream",
     "text": [
      " KNN compute score : 0.2471490564133616\n",
      " KNN score : 0.547683923705722\n",
      " RF compute score 0.17317590069633668\n",
      " RF score : 0.6657584014532243\n",
      " DT compute score 0.2176808961550106\n",
      " DT score : 0.5885558583106267\n",
      " LG compute score 0.26410334039761835\n",
      " LG score : 0.48077505298213746\n"
     ]
    }
   ],
   "source": [
    "#Instanciation, prédictions et évaluations de plusieurs modèles pour identifier le plus performant\n",
    "\n",
    "knn=KNeighborsClassifier()\n",
    "knn.fit(X_train,y_train)\n",
    "y_pred_test=knn.predict(X_test)\n",
    "metric_eval_knn=compute_score(y_test,y_pred_test)\n",
    "print(\" KNN compute score :\" , metric_eval_knn)\n",
    "print(\" KNN score :\" , knn.score(X_test,y_test))\n",
    "\n",
    "rfc=RandomForestClassifier()\n",
    "rfc.fit(X_train,y_train)\n",
    "y_pred_test=rfc.predict(X_test)\n",
    "metric_eval_rfc=compute_score(y_test,y_pred_test)\n",
    "print(\" RF compute score\" , metric_eval_rfc)\n",
    "print(\" RF score :\" , rfc.score(X_test,y_test))\n",
    "\n",
    "dt=DecisionTreeClassifier()\n",
    "dt.fit(X_train,y_train)\n",
    "y_pred_test=dt.predict(X_test)\n",
    "metric_eval_dt=compute_score(y_test,y_pred_test)\n",
    "print(\" DT compute score\" , metric_eval_dt)\n",
    "print(\" DT score :\" , dt.score(X_test,y_test))\n",
    "\n",
    "lg=LogisticRegression(max_iter=1000,class_weight=\"balanced\")\n",
    "lg.fit(X_train,y_train)\n",
    "y_pred_test=lg.predict(X_test)\n",
    "metric_eval_lg=compute_score(y_test,y_pred_test)\n",
    "print(\" LG compute score\" , metric_eval_lg)\n",
    "print(\" LG score :\" , lg.score(X_test,y_test))"
   ]
  },
  {
   "cell_type": "markdown",
   "id": "3c132568",
   "metadata": {},
   "source": [
    "Le modèle Random Forest reste le plus performant même sur 6 catégories de ventes"
   ]
  },
  {
   "cell_type": "code",
   "execution_count": 154,
   "id": "a7ba8066",
   "metadata": {},
   "outputs": [
    {
     "data": {
      "text/plain": [
       "{'criterion': 'entropy', 'max_depth': 30, 'max_features': 'auto'}"
      ]
     },
     "execution_count": 154,
     "metadata": {},
     "output_type": "execute_result"
    }
   ],
   "source": [
    "#GridSearch pour trouver les meilleurs hyperparamètres\n",
    "param_rf=[{'criterion': ['gini', 'entropy'],\n",
    "           'max_depth': [4,5,6,7,8,9,10,11,12,15,20,30,40,50,70,90,120,150],\n",
    "           'max_features': ['auto', 'sqrt', 'log2']}]\n",
    "\n",
    "gridcv=GridSearchCV(rfc,param_grid=param_rf,cv=3,scoring=make_scorer(compute_score,greater_is_better=False))\n",
    "gridcv.fit(X_train,y_train)\n",
    "\n",
    "gridcv.best_params_"
   ]
  },
  {
   "cell_type": "code",
   "execution_count": 155,
   "id": "79825166",
   "metadata": {},
   "outputs": [],
   "source": [
    "#Réapplication du modèle avec les meilleurs hyperparamètres identifiés\n",
    "rfc_grid = RandomForestClassifier(\n",
    "    criterion=gridcv.best_params_['criterion'],\n",
    "    max_depth=gridcv.best_params_['max_depth'],\n",
    "    max_features=gridcv.best_params_['max_features'])\n",
    "\n",
    "rfc_grid.fit(X_train, y_train)\n",
    "y_pred = rfc_grid.predict(X_test)"
   ]
  },
  {
   "cell_type": "code",
   "execution_count": 156,
   "id": "d768cd2d",
   "metadata": {},
   "outputs": [
    {
     "name": "stdout",
     "output_type": "stream",
     "text": [
      " RF compute score 0.17357957412453326\n",
      " RF_grid score : 0.6754465637299425\n"
     ]
    }
   ],
   "source": [
    "#Evaluation du modèle\n",
    "metric_eval_rfc_grid = compute_score(y_test,y_pred)\n",
    "print(\" RF compute score\" , metric_eval_rfc_grid)\n",
    "print(\" RF_grid score :\" , rfc_grid.score(X_test,y_test))"
   ]
  },
  {
   "cell_type": "code",
   "execution_count": 157,
   "id": "69863f32",
   "metadata": {},
   "outputs": [
    {
     "data": {
      "text/html": [
       "<div>\n",
       "<style scoped>\n",
       "    .dataframe tbody tr th:only-of-type {\n",
       "        vertical-align: middle;\n",
       "    }\n",
       "\n",
       "    .dataframe tbody tr th {\n",
       "        vertical-align: top;\n",
       "    }\n",
       "\n",
       "    .dataframe thead th {\n",
       "        text-align: right;\n",
       "    }\n",
       "</style>\n",
       "<table border=\"1\" class=\"dataframe\">\n",
       "  <thead>\n",
       "    <tr style=\"text-align: right;\">\n",
       "      <th>Classe prédite</th>\n",
       "      <th>1</th>\n",
       "      <th>2</th>\n",
       "      <th>3</th>\n",
       "      <th>4</th>\n",
       "      <th>5</th>\n",
       "      <th>6</th>\n",
       "    </tr>\n",
       "    <tr>\n",
       "      <th>Classe réelle</th>\n",
       "      <th></th>\n",
       "      <th></th>\n",
       "      <th></th>\n",
       "      <th></th>\n",
       "      <th></th>\n",
       "      <th></th>\n",
       "    </tr>\n",
       "  </thead>\n",
       "  <tbody>\n",
       "    <tr>\n",
       "      <th>1</th>\n",
       "      <td>1013</td>\n",
       "      <td>106</td>\n",
       "      <td>64</td>\n",
       "      <td>18</td>\n",
       "      <td>38</td>\n",
       "      <td>0</td>\n",
       "    </tr>\n",
       "    <tr>\n",
       "      <th>2</th>\n",
       "      <td>111</td>\n",
       "      <td>480</td>\n",
       "      <td>108</td>\n",
       "      <td>31</td>\n",
       "      <td>27</td>\n",
       "      <td>1</td>\n",
       "    </tr>\n",
       "    <tr>\n",
       "      <th>3</th>\n",
       "      <td>63</td>\n",
       "      <td>60</td>\n",
       "      <td>301</td>\n",
       "      <td>49</td>\n",
       "      <td>51</td>\n",
       "      <td>0</td>\n",
       "    </tr>\n",
       "    <tr>\n",
       "      <th>4</th>\n",
       "      <td>35</td>\n",
       "      <td>30</td>\n",
       "      <td>52</td>\n",
       "      <td>175</td>\n",
       "      <td>93</td>\n",
       "      <td>0</td>\n",
       "    </tr>\n",
       "    <tr>\n",
       "      <th>5</th>\n",
       "      <td>21</td>\n",
       "      <td>16</td>\n",
       "      <td>32</td>\n",
       "      <td>32</td>\n",
       "      <td>251</td>\n",
       "      <td>6</td>\n",
       "    </tr>\n",
       "    <tr>\n",
       "      <th>6</th>\n",
       "      <td>0</td>\n",
       "      <td>1</td>\n",
       "      <td>1</td>\n",
       "      <td>0</td>\n",
       "      <td>26</td>\n",
       "      <td>11</td>\n",
       "    </tr>\n",
       "  </tbody>\n",
       "</table>\n",
       "</div>"
      ],
      "text/plain": [
       "Classe prédite     1    2    3    4    5   6\n",
       "Classe réelle                               \n",
       "1               1013  106   64   18   38   0\n",
       "2                111  480  108   31   27   1\n",
       "3                 63   60  301   49   51   0\n",
       "4                 35   30   52  175   93   0\n",
       "5                 21   16   32   32  251   6\n",
       "6                  0    1    1    0   26  11"
      ]
     },
     "execution_count": 157,
     "metadata": {},
     "output_type": "execute_result"
    }
   ],
   "source": [
    "#Affichage de la matrice de corrélation\n",
    "cm = pd.crosstab(y_test, y_pred, rownames=['Classe réelle'], colnames=['Classe prédite'])\n",
    "cm"
   ]
  },
  {
   "cell_type": "code",
   "execution_count": 158,
   "id": "a8b7e8cb",
   "metadata": {},
   "outputs": [
    {
     "name": "stdout",
     "output_type": "stream",
     "text": [
      "              precision    recall  f1-score   support\n",
      "\n",
      "           1       0.81      0.82      0.82      1239\n",
      "           2       0.69      0.63      0.66       758\n",
      "           3       0.54      0.57      0.56       524\n",
      "           4       0.57      0.45      0.51       385\n",
      "           5       0.52      0.70      0.59       358\n",
      "           6       0.61      0.28      0.39        39\n",
      "\n",
      "    accuracy                           0.68      3303\n",
      "   macro avg       0.62      0.58      0.59      3303\n",
      "weighted avg       0.68      0.68      0.67      3303\n",
      "\n"
     ]
    }
   ],
   "source": [
    "#Affichage du rapport de classification\n",
    "from sklearn.metrics import classification_report\n",
    "print(classification_report(y_test, y_pred))"
   ]
  },
  {
   "cell_type": "code",
   "execution_count": 159,
   "id": "b4a01266",
   "metadata": {},
   "outputs": [
    {
     "data": {
      "image/png": "[encoded data removed]",
      "text/plain": [
       "<Figure size 432x288 with 1 Axes>"
      ]
     },
     "metadata": {
      "needs_background": "light"
     },
     "output_type": "display_data"
    }
   ],
   "source": [
    "#Affichage des features avec le plus d'influence sur le modèle\n",
    "import matplotlib.pyplot as plt\n",
    "plt.bar(X_train.columns, rfc_grid.feature_importances_)\n",
    "plt.xticks(rotation=90)\n",
    "plt.xlabel(\"Features\")\n",
    "plt.ylabel(\"Score\")\n",
    "plt.title(\"Features Importances\");"
   ]
  }
 ],
 "metadata": {
  "kernelspec": {
   "display_name": "Python 3",
   "language": "python",
   "name": "python3"
  },
  "language_info": {
   "codemirror_mode": {
    "name": "ipython",
    "version": 3
   },
   "file_extension": ".py",
   "mimetype": "text/x-python",
   "name": "python",
   "nbconvert_exporter": "python",
   "pygments_lexer": "ipython3",
   "version": "3.8.8"
  }
 },
 "nbformat": 4,
 "nbformat_minor": 5
}

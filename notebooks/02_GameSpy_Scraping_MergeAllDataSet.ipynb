{
 "cells": [
  {
   "cell_type": "code",
   "execution_count": 42,
   "id": "9ac3213d",
   "metadata": {},
   "outputs": [],
   "source": [
    "import pandas as pd\n",
    "from datetime import datetime\n",
    "import numpy as np"
   ]
  },
  {
   "cell_type": "markdown",
   "id": "c6b881ec",
   "metadata": {},
   "source": [
    "## Merge Metacritic &  jv & Gk"
   ]
  },
  {
   "cell_type": "code",
   "execution_count": 43,
   "id": "e6dd5452",
   "metadata": {},
   "outputs": [],
   "source": [
    "df_games = pd.read_csv('../data/01_GameSpy_Scraping_Metacritic.csv',sep=',', index_col='Unnamed: 0')\n",
    "df_jv_gk = pd.read_csv('../data/02_GameSpy_Scraping_merge_gk_jv.csv',sep=';',encoding='latin-1')"
   ]
  },
  {
   "cell_type": "code",
   "execution_count": 44,
   "id": "c4fb068e",
   "metadata": {},
   "outputs": [],
   "source": [
    "df_jv_gk = df_jv_gk.drop(columns=['Column1'])\n",
    "df_jv_gk['join']= df_jv_gk['Platform'] + df_jv_gk['Name_alphanum']\n",
    "df_jv_gk = df_jv_gk.drop_duplicates(keep='first')"
   ]
  },
  {
   "cell_type": "code",
   "execution_count": 45,
   "id": "16f22d31",
   "metadata": {},
   "outputs": [],
   "source": [
    "#Merging\n",
    "df_merge = df_games.merge(df_jv_gk,on='join',how='right').drop_duplicates()\n",
    "df_merge = df_merge.drop_duplicates(keep='first')\n",
    "df_merge = df_merge.drop(columns=['NameFormated','join','JV_Name','JV_plateforms','Name_alphanum','JV_Name_alphanum'])\n",
    "df_merge = df_merge.rename(columns={\n",
    "    'Date':'MC_Date',\n",
    "    'Metascore':'MC_Score',\n",
    "    'Studio':'MC_Studio',\n",
    "    'Userscore':'MC_Userscore'\n",
    "})"
   ]
  },
  {
   "cell_type": "markdown",
   "id": "d3b2c52a",
   "metadata": {},
   "source": [
    "### Traitement du dataset final"
   ]
  },
  {
   "cell_type": "code",
   "execution_count": 46,
   "id": "3bae10f3",
   "metadata": {},
   "outputs": [],
   "source": [
    "\"\"\"\n",
    "Toutes les notes Metacritic ou JV ou GK à zéro sont converti en nan\n",
    "\"\"\"\n",
    "columns = ['MC_Score','MC_Userscore','JV_journalist_rate','GK_noteGK','JV_players_rates','GK_noteUsers','MC_Userscore']\n",
    "\n",
    "for col in columns:\n",
    "    df_merge[col] = df_merge[col].replace(0, np.nan).replace('-', np.nan).astype('float')"
   ]
  },
  {
   "cell_type": "code",
   "execution_count": 47,
   "id": "8f76ad54",
   "metadata": {},
   "outputs": [],
   "source": [
    "\"\"\"\n",
    "Transformation des reviews de jv\n",
    "\"\"\"\n",
    "reviews_jv = []\n",
    "for a in df_merge['JV_reviews']:\n",
    "    rev = str(a).strip(' avis').replace(' ', '')\n",
    "    reviews_jv.append(rev)\n",
    "\n",
    "df_merge['JV_reviews'] = reviews_jv\n",
    "df_merge['JV_reviews'] = df_merge['JV_reviews'] .astype('float')"
   ]
  },
  {
   "cell_type": "code",
   "execution_count": 48,
   "id": "d23bf1fb",
   "metadata": {},
   "outputs": [],
   "source": [
    "\"\"\"\n",
    "Ensemble de fonction pour l'application de la gestion des priorités entre les données Metacritic, Gamkult et jeux-vidéos.com\n",
    "\"\"\"\n",
    "def __Choose3ValuesNumber(Series1,Series2,Series3):\n",
    "    \"\"\"\n",
    "    J'utilise cette fonction pour selectionner une valeur parmi trois valeurs à tester \n",
    "    \"\"\"\n",
    "    values_ = []\n",
    "\n",
    "    for x, y, z in zip(Series1,Series2,Series3):\n",
    "            s = pd.Series([x,y,z])\n",
    "            val = round(s.mean(),2)\n",
    "            values_.append(val)\n",
    "        \n",
    "    return values_\n",
    "\n",
    "def __Choose2ValuesNumber(Series1,Series2):\n",
    "    \"\"\"\n",
    "    J'utilise cette fonction pour selectionner une valeur parmi trois valeurs à tester \n",
    "    \"\"\"\n",
    "    values_ = []\n",
    "\n",
    "    for x, y in zip(Series1,Series2):\n",
    "            s = pd.Series([x,y])\n",
    "            val = round(s.mean(),2)\n",
    "            values_.append(val)\n",
    "        \n",
    "    return values_\n",
    "\n",
    "\n",
    "def __Choose2ValuesText(Series1,Series2):\n",
    "    \"\"\"\n",
    "    J'utilise cette fonction pour selectionner une valeur parmi deux valeurs à tester \n",
    "    \"\"\"\n",
    "    values_ = []\n",
    "\n",
    "    for x, y in zip(Series1,Series2):\n",
    "        if pd.isna(x) & pd.isna(y):\n",
    "            val = np.nan\n",
    "        elif pd.isna(x)==False & pd.isna(y)==False:\n",
    "            val = x\n",
    "        elif pd.isna(x)==False & pd.isna(y):\n",
    "            val = x\n",
    "        elif pd.isna(x) & pd.isna(y)==False:\n",
    "             val = y\n",
    "        values_.append(val)\n",
    "        \n",
    "    return values_\n",
    "def __Choose3ValuesText(Series1,Series2,Series3):\n",
    "    \"\"\"\n",
    "    J'utilise cette fonction pour selectionner une valeur parmi trois valeurs à tester \n",
    "    \"\"\"\n",
    "    values_ = []\n",
    "\n",
    "    for x, y, z in zip(Series1,Series2,Series3):\n",
    "        \n",
    "        if pd.isna(x) & pd.isna(y) & pd.isna(z):\n",
    "            val = np.nan\n",
    "        elif pd.isna(x)==False:\n",
    "            val= x\n",
    "        elif pd.isna(x):\n",
    "            s = pd.Series([y,z])\n",
    "            val = s[s.first_valid_index()]\n",
    "        values_.append(val)\n",
    "        \n",
    "    return values_"
   ]
  },
  {
   "cell_type": "code",
   "execution_count": 49,
   "id": "6285ee86",
   "metadata": {},
   "outputs": [],
   "source": [
    "# Date_Sortie\n",
    "date_sortie = __Choose2ValuesText(df_merge['JV_launch_date'],df_merge['MC_Date'])\n",
    "df_merge['DateSortie'] = date_sortie\n",
    "df_merge['DateSortie'] = pd.to_datetime(df_merge['DateSortie'])"
   ]
  },
  {
   "cell_type": "code",
   "execution_count": 50,
   "id": "e92c50cc",
   "metadata": {},
   "outputs": [],
   "source": [
    "#Mois de sortie \n",
    "df_merge['Mois'] = df_merge['DateSortie'].dt.month"
   ]
  },
  {
   "cell_type": "code",
   "execution_count": 51,
   "id": "fa2570ff",
   "metadata": {},
   "outputs": [],
   "source": [
    "studios = __Choose2ValuesText(df_merge['MC_Studio'],df_merge['GK_developpeur'])\n",
    "df_merge['Studio'] = studios"
   ]
  },
  {
   "cell_type": "code",
   "execution_count": 52,
   "id": "880ae931",
   "metadata": {},
   "outputs": [],
   "source": [
    "#Studio \n",
    "df_merge['Score'] = __Choose3ValuesNumber(df_merge['MC_Score'],df_merge['JV_journalist_rate'],df_merge['GK_noteGK'])"
   ]
  },
  {
   "cell_type": "code",
   "execution_count": 53,
   "id": "c9eeb098",
   "metadata": {},
   "outputs": [],
   "source": [
    "#rate\n",
    "df_merge['Rate'] = __Choose3ValuesNumber(df_merge['JV_players_rates'],df_merge['GK_noteUsers'],df_merge['MC_Userscore'])"
   ]
  },
  {
   "cell_type": "code",
   "execution_count": 54,
   "id": "d8e7bb75",
   "metadata": {},
   "outputs": [],
   "source": [
    "#Reviews\n",
    "df_merge['Review'] = __Choose2ValuesNumber(df_merge['JV_reviews'],df_merge['GK_nbAvis'])"
   ]
  },
  {
   "cell_type": "code",
   "execution_count": 55,
   "id": "31ebf665",
   "metadata": {},
   "outputs": [],
   "source": [
    "df_final = df_merge[['Name','Platform','Year','Genre','Publisher','DateSortie','Mois','Studio','Score',\\\n",
    "                     'Rate','Review',\\\n",
    "                     'NA_Sales','EU_Sales','JP_Sales','Other_Sales',\\\n",
    "                     'Global_Sales','GK_licence','GK_distributeur']]"
   ]
  },
  {
   "cell_type": "code",
   "execution_count": 65,
   "id": "d24df17e",
   "metadata": {},
   "outputs": [],
   "source": [
    "gklicenses = []\n",
    "\n",
    "for lic in df_final['GK_licence']:\n",
    "    gklicenses.append(str(lic).strip())\n",
    "\n",
    "df_final['GK_licence'] = gklicenses\n",
    "df_final = df_final.drop_duplicates()"
   ]
  },
  {
   "cell_type": "code",
   "execution_count": 40,
   "id": "f5acfcc3",
   "metadata": {},
   "outputs": [],
   "source": [
    "df_final.to_csv('../data/02_GameSpy_Scraping_MergeAllDataSet.csv',sep=',')"
   ]
  }
 ],
 "metadata": {
  "kernelspec": {
   "display_name": "Python 3 (ipykernel)",
   "language": "python",
   "name": "python3"
  },
  "language_info": {
   "codemirror_mode": {
    "name": "ipython",
    "version": 3
   },
   "file_extension": ".py",
   "mimetype": "text/x-python",
   "name": "python",
   "nbconvert_exporter": "python",
   "pygments_lexer": "ipython3",
   "version": "3.9.7"
  }
 },
 "nbformat": 4,
 "nbformat_minor": 5
}
